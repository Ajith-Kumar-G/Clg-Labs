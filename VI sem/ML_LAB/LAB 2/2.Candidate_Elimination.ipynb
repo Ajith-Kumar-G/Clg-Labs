{
  "nbformat": 4,
  "nbformat_minor": 0,
  "metadata": {
    "colab": {
      "name": "2.Candidate Elimination.ipynb",
      "provenance": [],
      "collapsed_sections": []
    },
    "kernelspec": {
      "name": "python3",
      "display_name": "Python 3"
    },
    "language_info": {
      "name": "python"
    }
  },
  "cells": [
    {
      "cell_type": "markdown",
      "source": [
        "## Algorithm:\n",
        "\n"
      ],
      "metadata": {
        "id": "uFSRuzOSsmBC"
      }
    },
    {
      "cell_type": "markdown",
      "source": [
        "\n",
        "```\n",
        "S1: Initialize G to the set of maximally general hypotheses in H\n",
        "S2: Initialize S to the set of maximally specific hypotheses in H\n",
        "S3: For each training example d, do\n",
        "\n",
        "    (A)  If d is a positive example\n",
        "        *  Remove from G any hypothesis inconsistent with d\n",
        "        *  For each hypothesis s in S that is not consistent with d,\n",
        "            *  Remove s from S\n",
        "            *  Add to S all minimal generalizations h of s such that\n",
        "                *  h is consistent with d, and some member of G is more general than h\n",
        "            *  Remove from S any hypothesis that is more general than another hypothesis in S\n",
        "\n",
        "    (A)  If d is a negative example\n",
        "        *  Remove from S any hypothesis inconsistent with d\n",
        "        *  For each hypothesis g in G that is not consistent with d,\n",
        "            *  Remove g from G\n",
        "            *  Add to G all minimal specializations h of g such that\n",
        "                *  h is consistent with d, and some member of S is more specific than h\n",
        "            *  Remove from G any hypothesis that is less general than another hypothesis in G\n",
        "\n",
        "S4: Output the hypothesis\n",
        "\n",
        "```\n",
        "\n",
        "\n",
        "\n"
      ],
      "metadata": {
        "id": "xxNtHsQ-s2q_"
      }
    },
    {
      "cell_type": "markdown",
      "source": [
        "# Code:"
      ],
      "metadata": {
        "id": "ou0IbdW0swO1"
      }
    },
    {
      "cell_type": "markdown",
      "source": [
        "### *Import and initialization*"
      ],
      "metadata": {
        "id": "hwhjb_Chzepp"
      }
    },
    {
      "cell_type": "code",
      "source": [
        "import pandas as pd\n",
        "import numpy as np\n",
        "import re"
      ],
      "metadata": {
        "id": "JywR9t92szhW"
      },
      "execution_count": 1,
      "outputs": []
    },
    {
      "cell_type": "code",
      "source": [
        "df = pd.read_csv(\"data.csv\")"
      ],
      "metadata": {
        "id": "pIkayIwX5Z7t"
      },
      "execution_count": 54,
      "outputs": []
    },
    {
      "cell_type": "code",
      "source": [
        "# testing with shuffling input and adding new row\n",
        "df.loc[len(df.index)] = ['rainy','warm','normal','weak','warm','same','yes']"
      ],
      "metadata": {
        "id": "Xrw6bTZVfz2H"
      },
      "execution_count": 92,
      "outputs": []
    },
    {
      "cell_type": "code",
      "source": [
        "df = df.sample(frac = 1) \n",
        "df.head()"
      ],
      "metadata": {
        "colab": {
          "base_uri": "https://localhost:8080/",
          "height": 206
        },
        "id": "DzIJmVg_kQtj",
        "outputId": "aa625b22-9baa-4cf7-9372-8945b3f0e5ea"
      },
      "execution_count": 93,
      "outputs": [
        {
          "output_type": "execute_result",
          "data": {
            "text/plain": [
              "     sky air temp humidity    wind water forecast enjoy sport\n",
              "0  sunny     warm   normal  strong  warm     same         yes\n",
              "1  sunny     warm     high  strong  warm     same         yes\n",
              "4  rainy     warm   normal    weak  warm     same         yes\n",
              "3  sunny     warm     high  strong  cool   change         yes\n",
              "2  rainy     cold     high  strong  warm   change          no"
            ],
            "text/html": [
              "\n",
              "  <div id=\"df-016fc630-ba6a-4bc8-8632-856dc46cc466\">\n",
              "    <div class=\"colab-df-container\">\n",
              "      <div>\n",
              "<style scoped>\n",
              "    .dataframe tbody tr th:only-of-type {\n",
              "        vertical-align: middle;\n",
              "    }\n",
              "\n",
              "    .dataframe tbody tr th {\n",
              "        vertical-align: top;\n",
              "    }\n",
              "\n",
              "    .dataframe thead th {\n",
              "        text-align: right;\n",
              "    }\n",
              "</style>\n",
              "<table border=\"1\" class=\"dataframe\">\n",
              "  <thead>\n",
              "    <tr style=\"text-align: right;\">\n",
              "      <th></th>\n",
              "      <th>sky</th>\n",
              "      <th>air temp</th>\n",
              "      <th>humidity</th>\n",
              "      <th>wind</th>\n",
              "      <th>water</th>\n",
              "      <th>forecast</th>\n",
              "      <th>enjoy sport</th>\n",
              "    </tr>\n",
              "  </thead>\n",
              "  <tbody>\n",
              "    <tr>\n",
              "      <th>0</th>\n",
              "      <td>sunny</td>\n",
              "      <td>warm</td>\n",
              "      <td>normal</td>\n",
              "      <td>strong</td>\n",
              "      <td>warm</td>\n",
              "      <td>same</td>\n",
              "      <td>yes</td>\n",
              "    </tr>\n",
              "    <tr>\n",
              "      <th>1</th>\n",
              "      <td>sunny</td>\n",
              "      <td>warm</td>\n",
              "      <td>high</td>\n",
              "      <td>strong</td>\n",
              "      <td>warm</td>\n",
              "      <td>same</td>\n",
              "      <td>yes</td>\n",
              "    </tr>\n",
              "    <tr>\n",
              "      <th>4</th>\n",
              "      <td>rainy</td>\n",
              "      <td>warm</td>\n",
              "      <td>normal</td>\n",
              "      <td>weak</td>\n",
              "      <td>warm</td>\n",
              "      <td>same</td>\n",
              "      <td>yes</td>\n",
              "    </tr>\n",
              "    <tr>\n",
              "      <th>3</th>\n",
              "      <td>sunny</td>\n",
              "      <td>warm</td>\n",
              "      <td>high</td>\n",
              "      <td>strong</td>\n",
              "      <td>cool</td>\n",
              "      <td>change</td>\n",
              "      <td>yes</td>\n",
              "    </tr>\n",
              "    <tr>\n",
              "      <th>2</th>\n",
              "      <td>rainy</td>\n",
              "      <td>cold</td>\n",
              "      <td>high</td>\n",
              "      <td>strong</td>\n",
              "      <td>warm</td>\n",
              "      <td>change</td>\n",
              "      <td>no</td>\n",
              "    </tr>\n",
              "  </tbody>\n",
              "</table>\n",
              "</div>\n",
              "      <button class=\"colab-df-convert\" onclick=\"convertToInteractive('df-016fc630-ba6a-4bc8-8632-856dc46cc466')\"\n",
              "              title=\"Convert this dataframe to an interactive table.\"\n",
              "              style=\"display:none;\">\n",
              "        \n",
              "  <svg xmlns=\"http://www.w3.org/2000/svg\" height=\"24px\"viewBox=\"0 0 24 24\"\n",
              "       width=\"24px\">\n",
              "    <path d=\"M0 0h24v24H0V0z\" fill=\"none\"/>\n",
              "    <path d=\"M18.56 5.44l.94 2.06.94-2.06 2.06-.94-2.06-.94-.94-2.06-.94 2.06-2.06.94zm-11 1L8.5 8.5l.94-2.06 2.06-.94-2.06-.94L8.5 2.5l-.94 2.06-2.06.94zm10 10l.94 2.06.94-2.06 2.06-.94-2.06-.94-.94-2.06-.94 2.06-2.06.94z\"/><path d=\"M17.41 7.96l-1.37-1.37c-.4-.4-.92-.59-1.43-.59-.52 0-1.04.2-1.43.59L10.3 9.45l-7.72 7.72c-.78.78-.78 2.05 0 2.83L4 21.41c.39.39.9.59 1.41.59.51 0 1.02-.2 1.41-.59l7.78-7.78 2.81-2.81c.8-.78.8-2.07 0-2.86zM5.41 20L4 18.59l7.72-7.72 1.47 1.35L5.41 20z\"/>\n",
              "  </svg>\n",
              "      </button>\n",
              "      \n",
              "  <style>\n",
              "    .colab-df-container {\n",
              "      display:flex;\n",
              "      flex-wrap:wrap;\n",
              "      gap: 12px;\n",
              "    }\n",
              "\n",
              "    .colab-df-convert {\n",
              "      background-color: #E8F0FE;\n",
              "      border: none;\n",
              "      border-radius: 50%;\n",
              "      cursor: pointer;\n",
              "      display: none;\n",
              "      fill: #1967D2;\n",
              "      height: 32px;\n",
              "      padding: 0 0 0 0;\n",
              "      width: 32px;\n",
              "    }\n",
              "\n",
              "    .colab-df-convert:hover {\n",
              "      background-color: #E2EBFA;\n",
              "      box-shadow: 0px 1px 2px rgba(60, 64, 67, 0.3), 0px 1px 3px 1px rgba(60, 64, 67, 0.15);\n",
              "      fill: #174EA6;\n",
              "    }\n",
              "\n",
              "    [theme=dark] .colab-df-convert {\n",
              "      background-color: #3B4455;\n",
              "      fill: #D2E3FC;\n",
              "    }\n",
              "\n",
              "    [theme=dark] .colab-df-convert:hover {\n",
              "      background-color: #434B5C;\n",
              "      box-shadow: 0px 1px 3px 1px rgba(0, 0, 0, 0.15);\n",
              "      filter: drop-shadow(0px 1px 2px rgba(0, 0, 0, 0.3));\n",
              "      fill: #FFFFFF;\n",
              "    }\n",
              "  </style>\n",
              "\n",
              "      <script>\n",
              "        const buttonEl =\n",
              "          document.querySelector('#df-016fc630-ba6a-4bc8-8632-856dc46cc466 button.colab-df-convert');\n",
              "        buttonEl.style.display =\n",
              "          google.colab.kernel.accessAllowed ? 'block' : 'none';\n",
              "\n",
              "        async function convertToInteractive(key) {\n",
              "          const element = document.querySelector('#df-016fc630-ba6a-4bc8-8632-856dc46cc466');\n",
              "          const dataTable =\n",
              "            await google.colab.kernel.invokeFunction('convertToInteractive',\n",
              "                                                     [key], {});\n",
              "          if (!dataTable) return;\n",
              "\n",
              "          const docLinkHtml = 'Like what you see? Visit the ' +\n",
              "            '<a target=\"_blank\" href=https://colab.research.google.com/notebooks/data_table.ipynb>data table notebook</a>'\n",
              "            + ' to learn more about interactive tables.';\n",
              "          element.innerHTML = '';\n",
              "          dataTable['output_type'] = 'display_data';\n",
              "          await google.colab.output.renderOutput(dataTable, element);\n",
              "          const docLink = document.createElement('div');\n",
              "          docLink.innerHTML = docLinkHtml;\n",
              "          element.appendChild(docLink);\n",
              "        }\n",
              "      </script>\n",
              "    </div>\n",
              "  </div>\n",
              "  "
            ]
          },
          "metadata": {},
          "execution_count": 93
        }
      ]
    },
    {
      "cell_type": "code",
      "source": [
        "d = df.iloc[:,:-1]\n",
        "print(\"The attributes are: \",d.columns.values)\n",
        "\n",
        "target = df.iloc[:,-1]\n",
        "print(\"The target is: \",target.values)"
      ],
      "metadata": {
        "colab": {
          "base_uri": "https://localhost:8080/"
        },
        "id": "3G_CdlTz5cyc",
        "outputId": "db704dc1-559d-44c5-83da-08cc5df71c5d"
      },
      "execution_count": 94,
      "outputs": [
        {
          "output_type": "stream",
          "name": "stdout",
          "text": [
            "The attributes are:  ['sky' 'air temp' 'humidity' 'wind' 'water' 'forecast']\n",
            "The target is:  ['yes' 'yes' 'yes' 'yes' 'no']\n"
          ]
        }
      ]
    },
    {
      "cell_type": "markdown",
      "source": [
        "### *Functions*"
      ],
      "metadata": {
        "id": "AsmNRh79ztG8"
      }
    },
    {
      "cell_type": "code",
      "source": [
        "# to evaluate an instance h with feature s\n",
        "def evaluate(x,s):\n",
        "    for i, j in zip(x,s):\n",
        "        if i != j and i != '?':\n",
        "            return 'no'\n",
        "\n",
        "    return 'yes'"
      ],
      "metadata": {
        "id": "_m7ltrza_vxe"
      },
      "execution_count": 46,
      "outputs": []
    },
    {
      "cell_type": "code",
      "source": [
        "# to remove the inconsistent instances from given G or S\n",
        "def removeInconsistent(x,d1):\n",
        "    flag = False\n",
        "    for i in x:\n",
        "        val = evaluate(i,d1)\n",
        "        if val != 'yes':\n",
        "            x.remove(i)\n",
        "            break"
      ],
      "metadata": {
        "id": "yX9ltFua6m9N"
      },
      "execution_count": 47,
      "outputs": []
    },
    {
      "cell_type": "code",
      "source": [
        "# to perform the Computation\n",
        "def performCE(x,d1,d,t1,s1,t):\n",
        "    for i in x:\n",
        "        if t1 == 'yes':\n",
        "            x = generateS(x,x.index(i),d1)\n",
        "    if t1 == 'no':\n",
        "        if s1[0] == '0':\n",
        "            s1 = preIni(d,t)\n",
        "        temp = generateG(x[:],x.index(i),d[:d1+1],s1, t[:d1+1])\n",
        "        x = temp\n",
        "    return x\n",
        "\n",
        "def preIni(d,t):\n",
        "    for i, j in zip(d,t):\n",
        "        if j == 'yes':\n",
        "            return i\n"
      ],
      "metadata": {
        "id": "2QdhU66FB7j2"
      },
      "execution_count": 48,
      "outputs": []
    },
    {
      "cell_type": "code",
      "source": [
        "# to generate S instance\n",
        "def generateS(x,i,s):\n",
        "    for m, n in zip(range(len(x[i])), s):\n",
        "        if x[i][m] != n:\n",
        "            if x[i][m] == '0':\n",
        "                x[i][m] = n\n",
        "            else:\n",
        "                x[i][m] = \"?\"\n"
      ],
      "metadata": {
        "id": "Fei23WCHPxXa"
      },
      "execution_count": 49,
      "outputs": []
    },
    {
      "cell_type": "code",
      "source": [
        "# to generate G instances\n",
        "def generateG(x,i,d,s1,t):\n",
        "    g = x.pop(i)\n",
        "    for i, j in zip(range(len(g)),s1):\n",
        "        if g[i] != j and g[i] =='?':\n",
        "            temp = g[:]\n",
        "            temp[i] = s1[i]\n",
        "            flag = True\n",
        "            if temp not in x:\n",
        "                for m, n in zip(d,t):\n",
        "                    if n=='no' and evaluate(temp,m) != n:\n",
        "                        flag = False\n",
        "                        break\n",
        "            if flag:\n",
        "                x.append(temp)\n",
        "    return x"
      ],
      "metadata": {
        "id": "Mdy1TEJlQcSG"
      },
      "execution_count": 50,
      "outputs": []
    },
    {
      "cell_type": "code",
      "source": [
        "# main function\n",
        "def candidateElimination(d, t):\n",
        "    G = [['?' for i in range(len(d[0]))]]\n",
        "    S = [['0' for i in range(len(d[0]))]]\n",
        "    for i, j in zip(range(len(d)),t):\n",
        "        if re.match(j,'yes',re.I):\n",
        "            removeInconsistent(G,d[i])\n",
        "            performCE(S,d[i],None,j,None,None)\n",
        "\n",
        "        else:\n",
        "            G = performCE(G,i,d,j,S[-1],t)\n",
        "    print(\"G includes:\")\n",
        "    printThem(G)\n",
        "    print(\"S includes:\")\n",
        "    printThem(S)"
      ],
      "metadata": {
        "id": "4Ht_7LLS57Rx"
      },
      "execution_count": 51,
      "outputs": []
    },
    {
      "cell_type": "code",
      "source": [
        "def printThem(x):\n",
        "    print(\"-\"*10)\n",
        "    for i in x:\n",
        "        print(i)\n",
        "    print(\"\\n\")"
      ],
      "metadata": {
        "id": "pJ8CPOg-PHMs"
      },
      "execution_count": 52,
      "outputs": []
    },
    {
      "cell_type": "markdown",
      "source": [
        "### *Output*"
      ],
      "metadata": {
        "id": "YwN26YdTzygW"
      }
    },
    {
      "cell_type": "code",
      "source": [
        "candidateElimination(d.values,target.values)"
      ],
      "metadata": {
        "colab": {
          "base_uri": "https://localhost:8080/"
        },
        "id": "fukEO0oQWgo2",
        "outputId": "74cafa15-f60d-402b-fdf9-a7da97633a4e"
      },
      "execution_count": 95,
      "outputs": [
        {
          "output_type": "stream",
          "name": "stdout",
          "text": [
            "G includes:\n",
            "----------\n",
            "['?', 'warm', '?', '?', '?', '?']\n",
            "\n",
            "\n",
            "S includes:\n",
            "----------\n",
            "['?', 'warm', '?', '?', '?', '?']\n",
            "\n",
            "\n"
          ]
        }
      ]
    },
    {
      "cell_type": "markdown",
      "source": [
        "## Version - 2"
      ],
      "metadata": {
        "id": "4wocFnJ8Fq4e"
      }
    },
    {
      "cell_type": "code",
      "source": [
        "def generalizeS(d1,S):\n",
        "    for i,j in enumerate(zip(d1,S[0])):\n",
        "        if j[0] != j[1] and j[1] != '?':\n",
        "            if j[1] != None:\n",
        "                S[0][i] = '?'\n",
        "            else:\n",
        "                S[0][i] = j[0]"
      ],
      "metadata": {
        "id": "YMhErse7J-fI"
      },
      "execution_count": 33,
      "outputs": []
    },
    {
      "cell_type": "code",
      "source": [
        "def specializeG(G,s1,d1):\n",
        "    for i,j in enumerate(zip(G[0],s1,d1)):\n",
        "        temp = G[0].copy()\n",
        "        if j[0] != j[1] and j[0] == '?' and j[1] != j[2]:\n",
        "            temp[i] = j[1]\n",
        "            G.append(temp)\n",
        "    G.pop(0)"
      ],
      "metadata": {
        "id": "8lOcTHq8MAbO"
      },
      "execution_count": 79,
      "outputs": []
    },
    {
      "cell_type": "code",
      "source": [
        "def candidate_elimination(d,t):\n",
        "    n = len(t)\n",
        "    S = [[None for i in range(len(d[0]))]]\n",
        "    G = [['?' for i in range(len(d[0]))]]\n",
        "    neg = []\n",
        "    pos = []\n",
        "    for i in range(n):\n",
        "        if t[i] == 'yes': pos.append(i)\n",
        "        else: neg.append(i)\n",
        "\n",
        "    # for positive instance\n",
        "    for i in pos:\n",
        "        generalizeS(d[i],S)\n",
        "    # for positive instance\n",
        "    for j in neg:\n",
        "        specializeG(G,S[0],d[j])\n",
        "\n",
        "    print(\"Specific Hypothesis: \", S[0], sep='\\n')\n",
        "    print(\"\\nGeneral Hypothesis: \")\n",
        "    for i in G:\n",
        "        print(i)\n",
        "    "
      ],
      "metadata": {
        "id": "-F13usJyGhnd"
      },
      "execution_count": 90,
      "outputs": []
    },
    {
      "cell_type": "code",
      "source": [
        "candidate_elimination(d.values,target.values)"
      ],
      "metadata": {
        "colab": {
          "base_uri": "https://localhost:8080/"
        },
        "id": "o9XosSRyHKbB",
        "outputId": "db7e7a83-3efc-49eb-cf96-68f0ec6bb611"
      },
      "execution_count": 96,
      "outputs": [
        {
          "output_type": "stream",
          "name": "stdout",
          "text": [
            "Specific Hypothesis: \n",
            "['?', 'warm', '?', '?', '?', '?']\n",
            "\n",
            "General Hypothesis: \n",
            "['?', 'warm', '?', '?', '?', '?']\n"
          ]
        }
      ]
    }
  ]
}