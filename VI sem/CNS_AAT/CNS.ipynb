{
  "nbformat": 4,
  "nbformat_minor": 0,
  "metadata": {
    "colab": {
      "name": "CNS.ipynb",
      "provenance": [],
      "collapsed_sections": []
    },
    "kernelspec": {
      "name": "python3",
      "display_name": "Python 3"
    },
    "language_info": {
      "name": "python"
    }
  },
  "cells": [
    {
      "cell_type": "code",
      "source": [
        "!pip install pyDes"
      ],
      "metadata": {
        "colab": {
          "base_uri": "https://localhost:8080/"
        },
        "id": "_3WAsODFfHpb",
        "outputId": "b8dc819f-3e67-4504-b01b-31f0d3ce161e"
      },
      "execution_count": 79,
      "outputs": [
        {
          "output_type": "stream",
          "name": "stdout",
          "text": [
            "Installing collected packages: pyDes\n",
            "Successfully installed pyDes-2.0.1\n"
          ]
        }
      ]
    },
    {
      "cell_type": "code",
      "source": [
        "from multiprocessing import Pool\n",
        "from functools import partial\n",
        "from pyDes import des, PAD_PKCS5\n",
        "import array"
      ],
      "metadata": {
        "id": "JoNX5nQ8Ed1E"
      },
      "execution_count": 266,
      "outputs": []
    },
    {
      "cell_type": "code",
      "source": [
        "def encrypt(key, plain_text):\n",
        "    cipher = des(key)\n",
        "    return cipher.encrypt(plain_text)\n",
        "\n",
        "\n",
        "# decrypt given plaintext with key\n",
        "def decrypt(key, cipher_text):\n",
        "    cipher = des(key)\n",
        "    return cipher.decrypt(cipher_text)\n",
        "\n",
        "\n",
        "# perform a full 2DES encryption (not used in cracking)\n",
        "def two_des_encrypt(k1, k2, plain_text):\n",
        "    return encrypt(k2, encrypt(k1, plain_text))\n",
        "\n",
        "\n",
        "# perform a full 2DES decryption (not used in cracking)\n",
        "def two_des_decrypt(k1, k2, cipher_text):\n",
        "    return decrypt(k1, decrypt(k2, cipher_text))\n",
        "\n",
        "\n",
        "def generate_keys(num):\n",
        "    for n in range(num):\n",
        "        arr = [0] * 8\n",
        "        powers = [7, 6, 5, 4, 3, 2, 1, 0]\n",
        "        for i, p in enumerate(powers):\n",
        "            arr[i] = n // (128 ** p)\n",
        "            n = n - (arr[i] * (128 ** p)) if n >= (128 ** p) else n\n",
        "        yield array.array('B', arr).tobytes()\n",
        "\n",
        "\n",
        "def to_byte_string(arr):\n",
        "\treturn array.array('B', arr).tobytes()\n",
        "\n",
        "\n",
        "# convert a bytes string into something more human readable\n",
        "def hex_formating(bs):\n",
        "    return ''.join([format(b, '02x') for b in bs])\n",
        "\n",
        "\n",
        "# convert a bytes string into something more human readable\n",
        "def int_formating(bs):\n",
        "    return [int(b) for b in bs]\n",
        "\n",
        "\n",
        "# convert human readable text into hex pairs\n",
        "def string_to_hex(s):\n",
        "    return ''.join([format(ord(c), '02x') for c in s])\n",
        "\n",
        "\n",
        "# basically just a helper for multi threading\n",
        "def composed_encrypt(plain_text, key):\n",
        "    return (encrypt(key, plain_text), key)\n",
        "\n",
        "\n",
        "# convert a regular string with hex pairs into a format pyDes can play nice with\n",
        "def convert_string_to_bytes(s):\n",
        "    # string needs to be an even number in length\n",
        "    if len(s) % 2 != 0:\n",
        "        raise ValueError\n",
        "    else:\n",
        "        ls = [s[i:i + 2] for i in range(0, len(s), 2)]\n",
        "        return array.array('B', [int(c, 16) for c in ls]).tobytes()\n",
        "\n",
        "\n",
        "#perform the actual meet in the middle attack\n",
        "#meet in the middle is a special form of plain text attack\n",
        "#first, you generate a table of all the keys and the ciphertext that corresponds to\n",
        "#encrypting the plaintext with that key\n",
        "#then you iterate through all the keys again, this time decrypting the given\n",
        "#ciphertext and checking if the result is in the table\n",
        "#if one of the results is in the table then you have found your key pair\n",
        "def mitm(nkeys, plain_text, cipher_text, pool=None):\n",
        "    # build table in serial if we didn't get the multiprocessing pool\n",
        "    if pool is None:\n",
        "        table = {}\n",
        "        # generate all the encryption\n",
        "        for k in generate_keys(nkeys):\n",
        "            c = encrypt(k, plain_text)\n",
        "            table[c] = k\n",
        "    else:\n",
        "        table = dict(pool.map(partial(composed_encrypt, plain_text), generate_keys(nkeys)))  # partial composes a function with standard args\n",
        "\n",
        "    # iterate each decryption and quit if we find a match\n",
        "    for k in generate_keys(nkeys):\n",
        "        p = decrypt(k, cipher_text)\n",
        "        if p in table.keys():\n",
        "            k1 = int_formating(table[p])\n",
        "            k2 = int_formating(k)\n",
        "            print('found keys: (k1:{}, k2:{})'.format(k1, k2))\n",
        "            print('apply k2 then k1 to decrypt')\n",
        "            return (k1, k2)\n",
        "\n",
        "    # if here then we didn't find anything\n",
        "    print('did not find keys')"
      ],
      "metadata": {
        "id": "Ma3Gi7i-e6Ab"
      },
      "execution_count": 268,
      "outputs": []
    },
    {
      "cell_type": "markdown",
      "source": [
        "# Setting the PT and Key\n"
      ],
      "metadata": {
        "id": "fFn3IJULoFq8"
      }
    },
    {
      "cell_type": "code",
      "source": [
        "pt = \"Computer\".encode(\"utf-8\").hex()\n",
        "k1 = b'\\x00\\x00\\x00\\x00\\x00\\x00\\x00\\x01'\n",
        "k2 = b'\\x00\\x00\\x00\\x00\\x00\\x00\\x00\\x02'\n",
        "pt, k1, k2"
      ],
      "metadata": {
        "colab": {
          "base_uri": "https://localhost:8080/"
        },
        "id": "lcv-qkmIfLzK",
        "outputId": "75c7585c-fee9-45c2-9f7b-539562e3b901"
      },
      "execution_count": 258,
      "outputs": [
        {
          "output_type": "execute_result",
          "data": {
            "text/plain": [
              "('436f6d7075746572',\n",
              " b'\\x00\\x00\\x00\\x00\\x00\\x00\\x00\\x01',\n",
              " b'\\x00\\x00\\x00\\x00\\x00\\x00\\x00\\x02')"
            ]
          },
          "metadata": {},
          "execution_count": 258
        }
      ]
    },
    {
      "cell_type": "markdown",
      "source": [
        "# Encryption"
      ],
      "metadata": {
        "id": "IxRY4sC-oBnB"
      }
    },
    {
      "cell_type": "code",
      "source": [
        "ct_hex = two_des_encrypt(k1,k2,pt)\n",
        "ct_hex"
      ],
      "metadata": {
        "colab": {
          "base_uri": "https://localhost:8080/"
        },
        "id": "qQcUKb6UhS3a",
        "outputId": "1c79e841-a7ef-42bd-c209-a7ecbb08af29"
      },
      "execution_count": 259,
      "outputs": [
        {
          "output_type": "execute_result",
          "data": {
            "text/plain": [
              "b'\\xf4\\xeb\\xec\\x11\\xf6H\\x1b\\x84\\x93\\x88\\x99\\xccJ\\xad\\x13G'"
            ]
          },
          "metadata": {},
          "execution_count": 259
        }
      ]
    },
    {
      "cell_type": "markdown",
      "source": [
        "# Decryption"
      ],
      "metadata": {
        "id": "AcGXfmONoM6W"
      }
    },
    {
      "cell_type": "code",
      "source": [
        "pt_hex = two_des_decrypt(k1,k2,ct_hex)"
      ],
      "metadata": {
        "id": "kkskVY6lh4GP"
      },
      "execution_count": 260,
      "outputs": []
    },
    {
      "cell_type": "code",
      "source": [
        "print(pt_hex.decode('utf-8'))\n",
        "byte_array = bytearray.fromhex(pt_hex.decode('utf-8'))\n",
        "byte_array.decode()"
      ],
      "metadata": {
        "colab": {
          "base_uri": "https://localhost:8080/",
          "height": 54
        },
        "id": "WO_40rYZjb1v",
        "outputId": "69ce2a72-4c12-48b3-8848-3bac16ad572c"
      },
      "execution_count": 261,
      "outputs": [
        {
          "output_type": "stream",
          "name": "stdout",
          "text": [
            "436f6d7075746572\n"
          ]
        },
        {
          "output_type": "execute_result",
          "data": {
            "text/plain": [
              "'Computer'"
            ],
            "application/vnd.google.colaboratory.intrinsic+json": {
              "type": "string"
            }
          },
          "metadata": {},
          "execution_count": 261
        }
      ]
    },
    {
      "cell_type": "markdown",
      "source": [
        "# Meet in the middle Attck"
      ],
      "metadata": {
        "id": "G1wK0VbKEr1V"
      }
    },
    {
      "cell_type": "markdown",
      "source": [
        "## Attack"
      ],
      "metadata": {
        "id": "t6Hpu4bIEzB1"
      }
    },
    {
      "cell_type": "code",
      "source": [
        "with Pool() as p:\n",
        "            keys = mitm(127**2, pt, ct_hex, p)\n",
        "            print(f\"k1:{hex_formating(keys[0])}, k2:{hex_formating(keys[1])}\")"
      ],
      "metadata": {
        "colab": {
          "base_uri": "https://localhost:8080/"
        },
        "id": "yBQ-FjYF-1yk",
        "outputId": "70f82b90-8f9d-4212-c054-60de96efa91e"
      },
      "execution_count": 262,
      "outputs": [
        {
          "output_type": "stream",
          "name": "stdout",
          "text": [
            "found keys: (k1:[0, 0, 0, 0, 0, 0, 1, 1], k2:[0, 0, 0, 0, 0, 0, 0, 2])\n",
            "apply k2 then k1 to decrypt\n",
            "k1:0000000000000101, k2:0000000000000002\n"
          ]
        }
      ]
    },
    {
      "cell_type": "markdown",
      "source": [
        "## Checking"
      ],
      "metadata": {
        "id": "EFDZwjOCE2Mw"
      }
    },
    {
      "cell_type": "code",
      "source": [
        "# First decryption\n",
        "t1 = decrypt(b'\\x00\\x00\\x00\\x00\\x00\\x00\\x00\\x02',ct_hex)\n",
        "t1"
      ],
      "metadata": {
        "colab": {
          "base_uri": "https://localhost:8080/"
        },
        "id": "OZWUsBn4Adsx",
        "outputId": "464c978b-adb5-4c2c-b82e-d6d4fdb05d9d"
      },
      "execution_count": 263,
      "outputs": [
        {
          "output_type": "execute_result",
          "data": {
            "text/plain": [
              "b'{\\x12\\x88i\\x8a\\xc8\\xa1\\xeaE\\xc7\\xfd\\xa0\\x88R\\xf7\\x9e'"
            ]
          },
          "metadata": {},
          "execution_count": 263
        }
      ]
    },
    {
      "cell_type": "code",
      "source": [
        "# Second decryption\n",
        "t2 = decrypt(b'\\x00\\x00\\x00\\x00\\x00\\x00\\x01\\x01',t1)\n",
        "convert_string_to_bytes(t2).decode()"
      ],
      "metadata": {
        "colab": {
          "base_uri": "https://localhost:8080/",
          "height": 36
        },
        "id": "ysskSqz6BEl4",
        "outputId": "1d0ad2ee-0753-4597-9b38-6f72ef9ab6bf"
      },
      "execution_count": 274,
      "outputs": [
        {
          "output_type": "execute_result",
          "data": {
            "text/plain": [
              "'Computer'"
            ],
            "application/vnd.google.colaboratory.intrinsic+json": {
              "type": "string"
            }
          },
          "metadata": {},
          "execution_count": 274
        }
      ]
    },
    {
      "cell_type": "code",
      "source": [
        "# Actual decryption\n",
        "t3 = decrypt(b'\\x00\\x00\\x00\\x00\\x00\\x00\\x00\\x01',t1)\n",
        "t3"
      ],
      "metadata": {
        "colab": {
          "base_uri": "https://localhost:8080/"
        },
        "id": "0WcwLvETDC0o",
        "outputId": "49ff02b6-b561-4ce8-921a-56ecc0d30165"
      },
      "execution_count": 277,
      "outputs": [
        {
          "output_type": "execute_result",
          "data": {
            "text/plain": [
              "b'436f6d7075746572'"
            ]
          },
          "metadata": {},
          "execution_count": 277
        }
      ]
    }
  ]
}