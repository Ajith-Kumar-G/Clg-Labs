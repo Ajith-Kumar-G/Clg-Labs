{
  "nbformat": 4,
  "nbformat_minor": 0,
  "metadata": {
    "colab": {
      "name": "6.EntailmentProof.ipynb",
      "provenance": [],
      "collapsed_sections": []
    },
    "kernelspec": {
      "name": "python3",
      "display_name": "Python 3"
    },
    "language_info": {
      "name": "python"
    }
  },
  "cells": [
    {
      "cell_type": "code",
      "execution_count": 65,
      "metadata": {
        "id": "PWM4pLz6Z5fi"
      },
      "outputs": [],
      "source": [
        "import string,copy\n",
        "\n",
        "\n",
        "def TT_Entails(KB, a):\n",
        "    symbols = [i for i in KB if i in string.ascii_letters]\n",
        "    return TT_CHECK(KB,a,symbols,{},{})\n",
        "\n",
        "def TT_CHECK(KB,a,symbols,model,F_sym):\n",
        "    model.update(F_sym)\n",
        "    if symbols == []:\n",
        "        print(\"Model: \",model,\"KB: \",PL_TRUE(KB,model),\"a:\",PL_TRUE(a,model))\n",
        "        if PL_TRUE(KB,model):\n",
        "            return PL_TRUE(a,model)\n",
        "        else: return True\n",
        "    else:\n",
        "        first_sym = symbols[0]; rest = symbols[1:]\n",
        "        if not model == {}:\n",
        "            return TT_CHECK(KB,a,rest,model, {first_sym: \"1\"}) and TT_CHECK(KB,a,rest,model,{first_sym: \"0\"})\n",
        "        else:\n",
        "             return TT_CHECK(KB,a,rest,{},{first_sym: \"1\"}) and TT_CHECK(KB,a,rest,{},{first_sym: \"0\"})\n",
        "\n",
        "def PL_TRUE(x, model):\n",
        "    res = \" \".join(model.get(ele, ele) for ele in x.split())\n",
        "    s = [i for i in res if i in string.ascii_letters]\n",
        "    res = res.replace(\"!\", \"not\")\n",
        "    if  s == []: return bool(eval(res))\n",
        "    else: return False"
      ]
    },
    {
      "cell_type": "code",
      "source": [
        "KB = \"( ( ! p ) | q ) & r\"\n",
        "query = \"p\"\n",
        "print(\"Entailmaent is : \", TT_Entails(KB,query))"
      ],
      "metadata": {
        "colab": {
          "base_uri": "https://localhost:8080/"
        },
        "id": "SOEwkeEwadzG",
        "outputId": "68db7c10-f3d3-4a9d-c22a-079602e790fc"
      },
      "execution_count": 67,
      "outputs": [
        {
          "output_type": "stream",
          "name": "stdout",
          "text": [
            "Model:  {'p': '1', 'q': '1', 'r': '1'} KB:  True a: True\n",
            "Model:  {'p': '1', 'q': '1', 'r': '0'} KB:  False a: True\n",
            "Model:  {'p': '1', 'q': '0', 'r': '1'} KB:  False a: True\n",
            "Model:  {'p': '1', 'q': '0', 'r': '0'} KB:  False a: True\n",
            "Model:  {'p': '0', 'q': '1', 'r': '1'} KB:  True a: False\n",
            "Entailmaent is :  False\n"
          ]
        }
      ]
    }
  ]
}