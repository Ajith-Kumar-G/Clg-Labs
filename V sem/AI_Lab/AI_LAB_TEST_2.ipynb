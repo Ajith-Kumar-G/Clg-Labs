{
  "nbformat": 4,
  "nbformat_minor": 0,
  "metadata": {
    "colab": {
      "name": "AI_LAB_TEST_2",
      "provenance": [],
      "collapsed_sections": []
    },
    "kernelspec": {
      "name": "python3",
      "display_name": "Python 3"
    },
    "language_info": {
      "name": "python"
    }
  },
  "cells": [
    {
      "cell_type": "code",
      "source": [
        "#unicodes\n",
        "'∃'\n",
        "'∀'\n",
        "'¬'\n",
        "'∧'\n",
        "'∨'\n",
        "'⇒'\n",
        "'⇔'\n",
        "import re"
      ],
      "metadata": {
        "id": "04QUiV7X4nWG"
      },
      "execution_count": 53,
      "outputs": []
    },
    {
      "cell_type": "code",
      "execution_count": 57,
      "metadata": {
        "id": "HuWtUoXfvHZL"
      },
      "outputs": [],
      "source": [
        "def getAttributes(string): #to get the arguments inside\n",
        "    expr = '\\([^)]+\\)'\n",
        "    matches = re.findall(expr, string)\n",
        "    return [m for m in str(matches) if m.isalpha()]\n",
        "\n",
        "def getPredicates(string):  #to get the predicate name\n",
        "    expr = '[a-z¬]+\\([A-Za-z,]+\\)'\n",
        "    return re.findall(expr, string)\n",
        "\n",
        "def deMorConv(sentence):\n",
        "    string = ''.join(list(sentence).copy())\n",
        "    string = string.replace('¬¬','')\n",
        "    flag = '[' in string\n",
        "    string = string.replace('¬[','')\n",
        "    string = string.strip(']')\n",
        "    for predicate in getPredicates(string):\n",
        "        string = string.replace(predicate, f'¬{predicate}')\n",
        "    s = list(string)\n",
        "    for i, c in enumerate(string):\n",
        "        if c == '∨':\n",
        "            s[i] = '∧'\n",
        "        elif c == '∧':\n",
        "            s[i] = '∨'\n",
        "    string = ''.join(s)    \n",
        "    string = string.replace('¬¬','')\n",
        "    return f'[{string}]' if flag else string\n",
        "\n",
        "def Skolemization(sentence):\n",
        "    #to generate skolem constants or funcions\n",
        "    SKOLEM_CONSTANTS = [f'{chr(c)}' for c in range(ord('A'), ord('Z')+1)]\n",
        "    sentence = ''.join(list(sentence).copy())\n",
        "    matches = re.findall('[∀∃].', sentence)\n",
        "    for match in matches[::-1]:\n",
        "        sentence = sentence.replace(match, '')\n",
        "        sentences = re.findall('\\[\\[[^]]+\\]]', sentence)\n",
        "        for s in sentences:\n",
        "            sentence = sentence.replace(s, s[1:-1])\n",
        "        for predicate in getPredicates(sentence):\n",
        "            attributes = getAttributes(predicate)\n",
        "            if ''.join(attributes).islower():\n",
        "                sentence = sentence.replace(match[1],SKOLEM_CONSTANTS.pop(0))\n",
        "            else:\n",
        "                aL = [a for a in attributes if a.islower()] #lowercase attribute\n",
        "                aU = [a for a in attributes if not a.islower()][0] #uppercase attribute\n",
        "                sentence = sentence.replace(aU, f'{SKOLEM_CONSTANTS.pop(0)}({aL[0] if len(aL) else match[1]})')\n",
        "    return sentence"
      ]
    },
    {
      "cell_type": "code",
      "source": [
        "def FOL_To_CNF(fol):\n",
        "    statement = fol\n",
        "    #removing the biconditional\n",
        "    while '⇔' in statement:\n",
        "        i = statement.index('⇔')\n",
        "        new_statement = '[' + statement[:i] + '⇒' + statement[i+1:] + '] ∧ ['+ statement[i+1:] + '⇒' + statement[:i] + ']'\n",
        "        statement = new_statement\n",
        "    expr = '\\[([^]]+)\\]'\n",
        "    statements = re.findall(expr, statement)\n",
        "    \n",
        "    #dividing the statement to statemnts based on [ ]\n",
        "    for i, s in enumerate(statements):\n",
        "        if '[' in s and ']' not in s:\n",
        "            statements[i] += ']'\n",
        "    for s in statements:\n",
        "        statement = statement.replace(s, FOL_To_CNF(s))\n",
        "    \n",
        "    #removing the conditional\n",
        "    while '⇒' in statement:\n",
        "        i = statement.index('⇒')\n",
        "        br = statement.index('[') if '[' in statement else 0\n",
        "        new_statement = '¬' + statement[br:i] + '∨' + statement[i+1:]\n",
        "        statement = statement[:br] + new_statement if br > 0 else new_statement\n",
        "    \n",
        "    #moving the negation \n",
        "    while '¬∀' in statement:\n",
        "        i = statement.index('¬∀')\n",
        "        statement = list(statement)\n",
        "        statement[i], statement[i+1], statement[i+2] = '∃', statement[i+2], '¬'\n",
        "        statement = ''.join(statement)\n",
        "    while '¬∃' in statement:\n",
        "        i = statement.index('¬∃')\n",
        "        s = list(statement)\n",
        "        s[i], s[i+1], s[i+2] = '∀', s[i+2], '¬'\n",
        "        statement = ''.join(s)\n",
        "    statement = statement.replace('¬[∀','[¬∀')\n",
        "    statement = statement.replace('¬[∃','[¬∃')\n",
        "    \n",
        "    #rechecking the statements and applying the demorgans to covert if necessary\n",
        "    expr = '(¬[∀∨∃].)'\n",
        "    statements = re.findall(expr, statement)\n",
        "    for s in statements:\n",
        "        statement = statement.replace(s, FOL_To_CNF(s))\n",
        "    expr = '¬\\[[^]]+\\]'\n",
        "    statements = re.findall(expr, statement)\n",
        "    for s in statements:\n",
        "        statement = statement.replace(s, deMorConv(s))\n",
        "    return statement"
      ],
      "metadata": {
        "id": "XO5yNxx1vPmt"
      },
      "execution_count": 58,
      "outputs": []
    },
    {
      "cell_type": "code",
      "source": [
        "sentence_in_FOL = input(\"Enter sentence in First Order Logic: \")\n",
        "print(\"FOL converted to CNF: {} \\n\\n\".format(Skolemization(FOL_To_CNF(sentence_in_FOL))))"
      ],
      "metadata": {
        "colab": {
          "base_uri": "https://localhost:8080/"
        },
        "id": "l-mRWUkJvSjY",
        "outputId": "39a38580-1b61-42b2-9570-eccc094aca99"
      },
      "execution_count": 60,
      "outputs": [
        {
          "output_type": "stream",
          "name": "stdout",
          "text": [
            "Enter sentence in First Order Logic: ∃x Teacher(x)∧Honest(x)\n",
            "FOL converted to CNF:  Teacher(A)∧Honest(A) \n",
            "\n",
            "\n"
          ]
        }
      ]
    },
    {
      "cell_type": "code",
      "source": [
        "#input testing\n",
        "¬∀x Father(x) ⇒ Parent(x)\n",
        "∀x Father(x) ⇔ Parent(x)\n",
        "∃x Father(x) ⇒ Parent(x)\n",
        "\n",
        "∀x Student(x) ∨ Smart(x) ⇒ GoodCitizen(x)"
      ],
      "metadata": {
        "id": "pZTE4etMwPbZ"
      },
      "execution_count": null,
      "outputs": []
    }
  ]
}