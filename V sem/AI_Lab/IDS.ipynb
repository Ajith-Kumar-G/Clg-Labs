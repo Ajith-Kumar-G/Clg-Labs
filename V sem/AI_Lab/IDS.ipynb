{
  "nbformat": 4,
  "nbformat_minor": 0,
  "metadata": {
    "colab": {
      "name": "IDS.ipynb",
      "provenance": []
    },
    "kernelspec": {
      "name": "python3",
      "display_name": "Python 3"
    },
    "language_info": {
      "name": "python"
    }
  },
  "cells": [
    {
      "cell_type": "code",
      "metadata": {
        "id": "0cVIgRv8Ff8Y"
      },
      "source": [
        "from collections import defaultdict\n",
        "class Graph:\n",
        "    def __init__(self, verticies):\n",
        "        self.V = verticies\n",
        "        self.graph = defaultdict(list)\n",
        "    def addEdge(self,u,v):\n",
        "            self.graph[u].append(v)\n",
        "    def printG(self):\n",
        "        for i in self.graph:\n",
        "            print(i, \"-->\",self.graph[i])\n",
        "    def DLS(self, src, target, maxDepth):\n",
        "        if src == target : return True\n",
        "        if maxDepth <=0 : return False\n",
        "        for i in self.graph[src]:\n",
        "            if(self.DLS(i, target, maxDepth-1)):\n",
        "                return True\n",
        "        return False\n",
        "    def IDDFS(self, src, target, maxDepth):\n",
        "        for i in range(1,maxDepth+1):\n",
        "            if (self.DLS(src, target, i)):\n",
        "                return True\n",
        "        return False\n"
      ],
      "execution_count": null,
      "outputs": []
    },
    {
      "cell_type": "code",
      "metadata": {
        "colab": {
          "base_uri": "https://localhost:8080/"
        },
        "id": "ikY9RE2tIu6B",
        "outputId": "befa49e4-8178-4225-ccb9-baf2af52143b"
      },
      "source": [
        "NoOfVertices = int(input(\"Enter the number of vertices : \"))\n",
        "dirGraph =  Graph(NoOfVertices)\n",
        "for _ in range(NoOfVertices):\n",
        "    p, n = map(int,(input(\"Enter the Parent Node No and New Node No :\")).split())\n",
        "    dirGraph.addEdge(p,n)\n"
      ],
      "execution_count": null,
      "outputs": [
        {
          "name": "stdout",
          "output_type": "stream",
          "text": [
            "Enter the number of vertices : 10\n",
            "Enter the Parent Node No and New Node No :0 1\n",
            "Enter the Parent Node No and New Node No :0 2\n",
            "Enter the Parent Node No and New Node No :1 3\n",
            "Enter the Parent Node No and New Node No :1 4\n",
            "Enter the Parent Node No and New Node No :1 5\n",
            "Enter the Parent Node No and New Node No :2 6\n",
            "Enter the Parent Node No and New Node No :2 7\n",
            "Enter the Parent Node No and New Node No :3 8\n",
            "Enter the Parent Node No and New Node No :3 9\n",
            "Enter the Parent Node No and New Node No :5 10\n"
          ]
        }
      ]
    },
    {
      "cell_type": "code",
      "metadata": {
        "colab": {
          "base_uri": "https://localhost:8080/"
        },
        "id": "wwOXBq_eILQg",
        "outputId": "0e52d9b1-19d7-4713-a129-e0c6bd822044"
      },
      "source": [
        "target, maxDepth = map(int, input(\"Enter the target, maxDepth: \").split())\n",
        "\n",
        "if dirGraph.IDDFS(0, target, maxDepth) == True:\n",
        "    print(\"Solution exists within the given search depth \")\n",
        "else:\n",
        "    print(\"Not within the depth\")"
      ],
      "execution_count": null,
      "outputs": [
        {
          "output_type": "stream",
          "name": "stdout",
          "text": [
            "Enter the target, maxDepth: 4 2\n",
            "Solution exists within the given search depth \n"
          ]
        }
      ]
    },
    {
      "cell_type": "code",
      "metadata": {
        "colab": {
          "base_uri": "https://localhost:8080/"
        },
        "id": "0IqAK4DTJ4aA",
        "outputId": "efa5375f-44a2-4add-813f-118a3e86c48f"
      },
      "source": [
        "dirGraph.printG()"
      ],
      "execution_count": null,
      "outputs": [
        {
          "output_type": "stream",
          "name": "stdout",
          "text": [
            "0 --> [1, 2]\n",
            "1 --> [3, 4, 5]\n",
            "2 --> [6, 7]\n",
            "3 --> [8, 9]\n",
            "5 --> [10]\n"
          ]
        }
      ]
    },
    {
      "cell_type": "code",
      "metadata": {
        "colab": {
          "base_uri": "https://localhost:8080/"
        },
        "id": "ERqZge7nSXXS",
        "outputId": "8be52b51-bd82-4ae7-b222-7e7f8d43bcf6"
      },
      "source": [
        "dirGraph.graph"
      ],
      "execution_count": null,
      "outputs": [
        {
          "output_type": "execute_result",
          "data": {
            "text/plain": [
              "defaultdict(list, {0: [1, 2], 1: [3, 4, 5], 2: [6, 7], 3: [8, 9], 5: [10]})"
            ]
          },
          "metadata": {},
          "execution_count": 86
        }
      ]
    },
    {
      "cell_type": "code",
      "metadata": {
        "id": "7oMvgkKoUXEz"
      },
      "source": [
        ""
      ],
      "execution_count": null,
      "outputs": []
    }
  ]
}