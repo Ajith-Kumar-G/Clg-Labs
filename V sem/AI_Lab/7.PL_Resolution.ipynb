{
  "nbformat": 4,
  "nbformat_minor": 0,
  "metadata": {
    "colab": {
      "name": "7.PL_Resolution.ipynb",
      "provenance": [],
      "collapsed_sections": []
    },
    "kernelspec": {
      "name": "python3",
      "display_name": "Python 3"
    },
    "language_info": {
      "name": "python"
    }
  },
  "cells": [
    {
      "cell_type": "code",
      "execution_count": 2,
      "metadata": {
        "id": "3k_4A7NWHoiI"
      },
      "outputs": [],
      "source": [
        "def PL_RESOLUTION(KB,a):\n",
        "    clauses = [i.strip() for i in KB.split(\"&\")]\n",
        "    query = [i.strip() for i in a.split(\"&\")]\n",
        "    for i in query:\n",
        "        if \"!\" not in i:\n",
        "            clauses.append(\"!{}\".format(i))\n",
        "        else:\n",
        "            clauses.append(i)\n",
        "    #print(clauses)\n",
        "    flag = False\n",
        "    while not flag:\n",
        "        new = []\n",
        "        for i in range(len(clauses)):\n",
        "            for j in range(i+1,len(clauses)):\n",
        "                resolvents = PL_RESOLVE(clauses[i],clauses[j])\n",
        "                #print(resolvents)\n",
        "                if resolvents == \"\":\n",
        "                    return True\n",
        "                else:\n",
        "                    if (resolvents not in new and resolvents not in clauses):\n",
        "                        new.append(resolvents)\n",
        "                        #print(\"New = \",new, \"Clauses= \",clauses)\n",
        "        #print(clauses, new)\n",
        "        if new in clauses:\n",
        "            return False\n",
        "        clauses.extend(new)\n",
        "def PL_RESOLVE(i,j):\n",
        "    #print(\"clause 1= \",i,\"       clause 2= \", j)\n",
        "    iL = [k.strip() for k in i.split(\"|\")]\n",
        "    jL = [k.strip() for k in j.split(\"|\")]\n",
        "    for i in iL:\n",
        "        nI=\"!{}\".format(i)\n",
        "        if nI in jL:\n",
        "            iL.remove(i)\n",
        "            jL.remove(nI)\n",
        "    #print(iL,jL)\n",
        "    iL.extend(jL)\n",
        "    #print(\" | \".join(iL))\n",
        "    return \" | \".join(iL)\n"
      ]
    },
    {
      "cell_type": "code",
      "source": [
        "newKB = \"p & !p | !q | r & !s | q & !t | q & t\"\n",
        "query = \"r\"\n",
        "print(\"Resolution is : \", PL_RESOLUTION(newKB,query))"
      ],
      "metadata": {
        "colab": {
          "base_uri": "https://localhost:8080/"
        },
        "id": "8gT2-plHJWv9",
        "outputId": "b226d24e-cfd3-45b7-d23c-360634fc0239"
      },
      "execution_count": 3,
      "outputs": [
        {
          "output_type": "stream",
          "name": "stdout",
          "text": [
            "Resolution is :  True\n"
          ]
        }
      ]
    },
    {
      "cell_type": "markdown",
      "source": [
        "#    For Converting"
      ],
      "metadata": {
        "id": "xQh5mkZXqiCa"
      }
    },
    {
      "cell_type": "code",
      "source": [
        "#print(\"⇔\", \"⇒\")\n",
        "KB = \"!p | q & !r | s\"\n",
        "alpa = \"q | s | !p & q | s | !r\"\n",
        "print(\"Resolution is : \", PL_RESOLUTION(KB,alpa))"
      ],
      "metadata": {
        "id": "thid8uWHl8gE"
      },
      "execution_count": null,
      "outputs": []
    },
    {
      "cell_type": "code",
      "source": [
        "KB.split('&')"
      ],
      "metadata": {
        "colab": {
          "base_uri": "https://localhost:8080/"
        },
        "id": "-e0twVCaKDHe",
        "outputId": "83c4d797-67d2-4002-878c-3623bd8f4fc6"
      },
      "execution_count": null,
      "outputs": [
        {
          "output_type": "execute_result",
          "data": {
            "text/plain": [
              "['( ( ! p ) | q ) ', ' r']"
            ]
          },
          "metadata": {},
          "execution_count": 4
        }
      ]
    },
    {
      "cell_type": "code",
      "source": [
        "print(\"⇔\", \"⇒\")\n",
        "newKB = \"p & ! p | !q | r & ! s | q & ! t | q & t\"\n",
        "query = \"r\""
      ],
      "metadata": {
        "colab": {
          "base_uri": "https://localhost:8080/"
        },
        "id": "Zli_rFzeKJg3",
        "outputId": "4b1b78a1-7959-4ac0-d60b-7b68390da4ea"
      },
      "execution_count": null,
      "outputs": [
        {
          "output_type": "stream",
          "name": "stdout",
          "text": [
            "⇔ ⇒\n"
          ]
        }
      ]
    },
    {
      "cell_type": "code",
      "source": [
        "import re\n",
        "def plToCNF(pl):\n",
        "    temp = [i.strip() for i in pl.split(\"&\")]\n",
        "    clauses = []\n",
        "    preClauses = []\n",
        "    print(temp)\n",
        "    for i in temp:\n",
        "        if \"⇔\" in i:\n",
        "            indx = i.index(\"⇔\")\n",
        "            temp.remove(i)\n",
        "            temp.extend([\"! {0} | {1}\".format(i[:indx-1],i[indx+2:]),\"! {1} | {0}\".format(i[:indx-1],i[indx+2:])])\n",
        "    print(temp)\n",
        "    for i in temp:\n",
        "         if \"⇒\" in i:\n",
        "            indx = i.index(\"⇒\")\n",
        "            temp.remove(i)\n",
        "            temp.append(\"( ! {0} | {1} )\".format(i[:indx-1].strip(),i[indx+2:].strip()))\n",
        "    print(temp)"
      ],
      "metadata": {
        "id": "vSBGWcITLzSj"
      },
      "execution_count": null,
      "outputs": []
    },
    {
      "cell_type": "code",
      "source": [
        "plToCNF(newKB)"
      ],
      "metadata": {
        "colab": {
          "base_uri": "https://localhost:8080/"
        },
        "id": "6qIFPB7ONxER",
        "outputId": "ef1ab1f6-c3ae-4d47-c586-66dbe39a11f1"
      },
      "execution_count": null,
      "outputs": [
        {
          "output_type": "stream",
          "name": "stdout",
          "text": [
            "['( p | r ) ⇒ q', 'r', '! q', 'r ⇔ q']\n",
            "['( p | r ) ⇒ q', 'r', '! q', '! r | q', '! q | r']\n",
            "['r', '! q', '! r | q', '! q | r', '( ! ( p | r ) | q )']\n"
          ]
        }
      ]
    }
  ]
}