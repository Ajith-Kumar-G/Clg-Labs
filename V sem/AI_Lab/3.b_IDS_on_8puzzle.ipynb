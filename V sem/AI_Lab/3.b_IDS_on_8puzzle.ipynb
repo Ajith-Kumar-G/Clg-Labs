{
  "nbformat": 4,
  "nbformat_minor": 0,
  "metadata": {
    "colab": {
      "name": "3.b.IDS_on_8puzzle.ipynb",
      "provenance": [],
      "collapsed_sections": []
    },
    "kernelspec": {
      "name": "python3",
      "display_name": "Python 3"
    },
    "language_info": {
      "name": "python"
    }
  },
  "cells": [
    {
      "cell_type": "code",
      "metadata": {
        "id": "j3eHGjVnsCVZ"
      },
      "source": [
        "import copy\n",
        "class child:\n",
        "  def __init__(self, problem, parent, action):\n",
        "    self.STATE = problem.RESULT(parent.STATE, action) if parent else problem\n",
        "    self.PARENT = parent\n",
        "    self.ACTION = action\n",
        "\n",
        "class problem:\n",
        "  def __init__(self,state,goal,actions):\n",
        "    self.INITIAL_STATE = state\n",
        "    self.GOAL = goal\n",
        "    self.ACTIONS = actions\n",
        "\n",
        "  def GOAL_TEST(self, state):\n",
        "    return (state == self.GOAL)\n",
        "\n",
        "  def RESULT(self,state,action):\n",
        "    return self.swap(copy.deepcopy(state),state.index('O'),action)\n",
        "\n",
        "  def swap(self,st,src,des):\n",
        "    st[src], st[des] =st[des], st[src]\n",
        "    return st"
      ],
      "execution_count": null,
      "outputs": []
    },
    {
      "cell_type": "code",
      "metadata": {
        "id": "mK_G7c-xRq-f"
      },
      "source": [
        "state = [1,2,3,4,7,5,6,'O',8]\n",
        "goal = [1, 2, 3, 4, 5, 6,7,8 ,'O']\n",
        "actions = {'l': -1,'r': +1,'u': -3,'d': +3}\n",
        "P = problem(state,goal,actions)"
      ],
      "execution_count": null,
      "outputs": []
    },
    {
      "cell_type": "code",
      "metadata": {
        "id": "IPDdrlW1RkXM"
      },
      "source": [
        "def DLS(src, problem, maxDepth):\n",
        "    if problem.GOAL_TEST(src.STATE) : return True\n",
        "    if maxDepth <=0 : return False\n",
        "    moves = [src.STATE.index(\"O\") + problem.ACTIONS[a] for a in problem.ACTIONS if src.STATE.index(\"O\") + problem.ACTIONS[a] in list(range(0,9)) ]\n",
        "    for j in moves:\n",
        "        if(DLS(child(problem,src,j), problem, maxDepth-1)):\n",
        "            return True\n",
        "    return False\n",
        "        \n",
        "def IDDFS(src,problem, maxDepth):\n",
        "    for i in range(1,maxDepth+1):\n",
        "        if (DLS(src, problem, i)):\n",
        "            return True\n",
        "    return False"
      ],
      "execution_count": null,
      "outputs": []
    },
    {
      "cell_type": "code",
      "metadata": {
        "id": "-mZ7lNA7RI1y",
        "colab": {
          "base_uri": "https://localhost:8080/"
        },
        "outputId": "ec03a629-911b-44b9-d42d-62662238dc2a"
      },
      "source": [
        "maxDepth = int(input(\"Enter MAX depth: \"))\n",
        "src = child(state,None,None)\n",
        "if IDDFS(src,P,maxDepth):\n",
        "  print(\"\\nSolution Exists!!\")\n",
        "else:\n",
        "  print(\"\\nSolution doesn't exits in the given depth!!!\")"
      ],
      "execution_count": null,
      "outputs": [
        {
          "output_type": "stream",
          "name": "stdout",
          "text": [
            "Enter MAX depth: 10\n",
            "\n",
            "Solution Exists!!\n"
          ]
        }
      ]
    }
  ]
}