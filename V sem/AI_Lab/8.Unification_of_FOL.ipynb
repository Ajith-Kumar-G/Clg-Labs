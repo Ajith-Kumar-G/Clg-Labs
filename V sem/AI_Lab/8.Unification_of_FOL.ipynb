{
  "nbformat": 4,
  "nbformat_minor": 0,
  "metadata": {
    "colab": {
      "name": "8.Unification of FOL.ipynb",
      "provenance": []
    },
    "kernelspec": {
      "name": "python3",
      "display_name": "Python 3"
    },
    "language_info": {
      "name": "python"
    }
  },
  "cells": [
    {
      "cell_type": "code",
      "execution_count": 180,
      "metadata": {
        "id": "kynDvgpTqwtW"
      },
      "outputs": [],
      "source": [
        "import re\n",
        "def UNIFY(x,y,sub):\n",
        "    print(x,y,sub)\n",
        "    if sub == -1:print(\"minus 1\"); return -1\n",
        "    elif x == y:print(\"same\"); return sub\n",
        "    elif VARIABLE(x):print(\"var x\"); return UNIFY_VAR(x,y,sub)\n",
        "    elif VARIABLE(y):print(\"var y\"); return UNIFY_VAR(y,x,sub) \n",
        "    elif COMPOUND(x) and COMPOUND(y):\n",
        "        print(\"coumpound\");\n",
        "        return UNIFY(ARGS(x),ARGS(y),UNIFY(OP(x),OP(y),sub))\n",
        "    elif LIST(x) and LIST(y) and len(x) == len(y):\n",
        "        print(\"list\");\n",
        "        return UNIFY(x[1:],y[1:],UNIFY(x[0],y[0],sub))\n",
        "    else:print(\"none\"); return -1\n",
        "\n",
        "def VARIABLE(x):\n",
        "    if type(x) == list: return False\n",
        "    elif re.search(\"^[a-z]$\",x): return True\n",
        "    else: return False\n",
        "\n",
        "def COMPOUND(x):\n",
        "    if type(x) == list: return False\n",
        "    return re.search(\"^.+\\(.*\\)$\", x)\n",
        "\n",
        "def ARGS(x):\n",
        "    arg = re.findall(\"\\((.*)\\)\", x)[0].split(\",\")\n",
        "    if len(arg) == 1:\n",
        "        return arg[0]\n",
        "    else:\n",
        "        return arg\n",
        "\n",
        "def OP(x):\n",
        "    return re.findall(\"^([a-zA-Z]+)\\(.*\\)$\", x)[0]\n",
        "\n",
        "def LIST(x):\n",
        "    return True if type(x) == list else False"
      ]
    },
    {
      "cell_type": "code",
      "source": [
        "def UNIFY_VAR(var, x, sub):\n",
        "    if var in sub: return UNIFY(sub[var],x,sub)\n",
        "    elif x in sub: return UNIFY(var,sub[var],sub)\n",
        "    elif OCCUR_CHECK(var,x): return -1\n",
        "    else:\n",
        "        sub[var]=x\n",
        "        return sub\n",
        "\n",
        "def OCCUR_CHECK(x,y):\n",
        "    if x in y: return True\n",
        "    else: return False"
      ],
      "metadata": {
        "id": "h2y-uMxprhQb"
      },
      "execution_count": 181,
      "outputs": []
    },
    {
      "cell_type": "code",
      "source": [
        "s1 = \"Knows(x,y)\"\n",
        "s2 = \"Knows(John,FATHER(x))\"\n",
        "substitution = UNIFY(s1,s2,{})\n",
        "if (substitution == -1):\n",
        "    print(\"Substitution not possible!\")\n",
        "else:\n",
        "    print(\"Successfull:\", substitution)"
      ],
      "metadata": {
        "colab": {
          "base_uri": "https://localhost:8080/"
        },
        "id": "Uvj_Q7ib4y48",
        "outputId": "635ffe5a-a910-497c-9e32-b290eb51e012"
      },
      "execution_count": 188,
      "outputs": [
        {
          "output_type": "stream",
          "name": "stdout",
          "text": [
            "Knows(x,y) Knows(John,FATHER(x)) {}\n",
            "coumpound\n",
            "Knows Knows {}\n",
            "same\n",
            "['x', 'y'] ['John', 'FATHER(x)'] {}\n",
            "list\n",
            "x John {}\n",
            "var x\n",
            "['y'] ['FATHER(x)'] {'x': 'John'}\n",
            "list\n",
            "y FATHER(x) {'x': 'John'}\n",
            "var x\n",
            "[] [] {'x': 'John', 'y': 'FATHER(x)'}\n",
            "same\n",
            "Successfull: {'x': 'John', 'y': 'FATHER(x)'}\n"
          ]
        }
      ]
    },
    {
      "cell_type": "markdown",
      "source": [
        "##    Testing:"
      ],
      "metadata": {
        "id": "Xbxo9IoWaO4K"
      }
    },
    {
      "cell_type": "code",
      "source": [
        "k = re.search(\"^.+\\(.*\\)$\",\"FATHER(x,y)\")\n",
        "k2 = re.findall(\"\\((.*)\\)\",\"FATHER(Mother(x),y)\")\n",
        "k3 = re.findall(\"^(.+)\\(.*\\)$\",\"FATHER(x,y)\")\n",
        "k4 = re.search(\"^.+\\(.*\\)$\",\"FATHER(x,y)\")\n",
        "k4"
      ],
      "metadata": {
        "colab": {
          "base_uri": "https://localhost:8080/"
        },
        "id": "8dTdXht345OM",
        "outputId": "7271d570-81ef-4ecf-e5ab-644a369bd0fc"
      },
      "execution_count": 52,
      "outputs": [
        {
          "output_type": "execute_result",
          "data": {
            "text/plain": [
              "<re.Match object; span=(0, 11), match='FATHER(x,y)'>"
            ]
          },
          "metadata": {},
          "execution_count": 52
        }
      ]
    },
    {
      "cell_type": "code",
      "source": [
        "st = \"FATHER(x,y)\"\n",
        "print(VARIABLE(st))\n",
        "print(COMPOUND(st))\n",
        "print(LIST(\"John,x\"))"
      ],
      "metadata": {
        "id": "NHLRw8Sd85IU",
        "colab": {
          "base_uri": "https://localhost:8080/"
        },
        "outputId": "ca539b8e-9e8e-438a-a9ed-059b8233a878"
      },
      "execution_count": 49,
      "outputs": [
        {
          "output_type": "stream",
          "name": "stdout",
          "text": [
            "False\n",
            "<re.Match object; span=(0, 11), match='FATHER(x,y)'>\n",
            "True\n"
          ]
        }
      ]
    },
    {
      "cell_type": "code",
      "source": [
        "OP(s1)"
      ],
      "metadata": {
        "colab": {
          "base_uri": "https://localhost:8080/",
          "height": 35
        },
        "id": "WyVMNb6xMiCw",
        "outputId": "f0dc25d4-20c7-454a-cd95-402c090ebd17"
      },
      "execution_count": 161,
      "outputs": [
        {
          "output_type": "execute_result",
          "data": {
            "application/vnd.google.colaboratory.intrinsic+json": {
              "type": "string"
            },
            "text/plain": [
              "'Knows'"
            ]
          },
          "metadata": {},
          "execution_count": 161
        }
      ]
    },
    {
      "cell_type": "code",
      "source": [
        "OP(s2)"
      ],
      "metadata": {
        "colab": {
          "base_uri": "https://localhost:8080/",
          "height": 35
        },
        "id": "CvlFMl7gbTc_",
        "outputId": "4c810378-4ea5-46ae-e186-79834e9adce7"
      },
      "execution_count": 162,
      "outputs": [
        {
          "output_type": "execute_result",
          "data": {
            "application/vnd.google.colaboratory.intrinsic+json": {
              "type": "string"
            },
            "text/plain": [
              "'Knows(John,FATHER'"
            ]
          },
          "metadata": {},
          "execution_count": 162
        }
      ]
    },
    {
      "cell_type": "code",
      "source": [
        "re.findall(\"^([a-zA-Z]+)\\(.*\\)$\", s1)[0]"
      ],
      "metadata": {
        "colab": {
          "base_uri": "https://localhost:8080/",
          "height": 35
        },
        "id": "fpymOW5Icwaq",
        "outputId": "08e62ec8-c63e-464f-df29-89f4fc539cee"
      },
      "execution_count": 179,
      "outputs": [
        {
          "output_type": "execute_result",
          "data": {
            "application/vnd.google.colaboratory.intrinsic+json": {
              "type": "string"
            },
            "text/plain": [
              "'Knows'"
            ]
          },
          "metadata": {},
          "execution_count": 179
        }
      ]
    },
    {
      "cell_type": "code",
      "source": [
        "s2"
      ],
      "metadata": {
        "colab": {
          "base_uri": "https://localhost:8080/",
          "height": 35
        },
        "id": "7euPQGY0c0uc",
        "outputId": "ea0672d5-8db6-48f2-d203-f9aa56292caf"
      },
      "execution_count": 166,
      "outputs": [
        {
          "output_type": "execute_result",
          "data": {
            "application/vnd.google.colaboratory.intrinsic+json": {
              "type": "string"
            },
            "text/plain": [
              "'Knows(John,FATHER(x))'"
            ]
          },
          "metadata": {},
          "execution_count": 166
        }
      ]
    },
    {
      "cell_type": "code",
      "source": [
        ""
      ],
      "metadata": {
        "id": "JdUZNksJdM5c"
      },
      "execution_count": null,
      "outputs": []
    }
  ]
}