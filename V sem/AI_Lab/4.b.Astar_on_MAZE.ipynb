{
  "nbformat": 4,
  "nbformat_minor": 0,
  "metadata": {
    "colab": {
      "name": "4b.MAZE with A*.ipynb",
      "provenance": [],
      "collapsed_sections": []
    },
    "kernelspec": {
      "name": "python3",
      "display_name": "Python 3"
    },
    "language_info": {
      "name": "python"
    }
  },
  "cells": [
    {
      "cell_type": "code",
      "metadata": {
        "id": "Di4vEqvaViMD"
      },
      "source": [
        "import copy\n",
        "class child:\n",
        "  def __init__(self, problem, parent,statePointer, action):\n",
        "    self.STATE, self.POINTER  = problem.RESULT(copy.deepcopy(parent.STATE),parent.POINTER, action)  if parent else ( problem, startPointer )\n",
        "    self.PARENT = parent\n",
        "    self.ACTION = action\n",
        "    self.PATHCOST = ( parent.PATHCOST + 1 ) if parent else 0\n",
        "    self.TOTALCOST = self.PATHCOST + problem.STEPCOST(self.POINTER) if parent else 0\n",
        "\n",
        "class problem:\n",
        "  def __init__(self,state,goalP,actions):\n",
        "    self.INITIAL_STATE = state\n",
        "    self.GOALP = goalP\n",
        "    self.ACTIONS = actions\n",
        "\n",
        "  def hFUNC(self, stateP):\n",
        "    return ((sum((stateP[i]-self.GOALP[i])**2 for i in range(2)))**.5)\n",
        "\n",
        "  def GOAL_TEST(self,stateP):\n",
        "    if stateP == self.GOALP:\n",
        "      return True\n",
        "    else:\n",
        "      return False\n",
        "\n",
        "  def RESULT(self,st,sP,action):\n",
        "    if action != self.GOALP:\n",
        "        st[action[0] * 4 + action[1]] =\".\"\n",
        "    sP = action\n",
        "    return st,sP\n",
        "\n",
        "  def STEPCOST(self,stateP):\n",
        "    return self.hFUNC(stateP)\n"
      ],
      "execution_count": null,
      "outputs": []
    },
    {
      "cell_type": "code",
      "metadata": {
        "id": "y03W6JyTVlZm"
      },
      "source": [
        "def aStar(statePointer,problem):\n",
        "  global finalSOL\n",
        "  global visited\n",
        "  solution=False\n",
        "  if problem.GOAL_TEST(statePointer): \n",
        "        solution=True\n",
        "        finalSOL = problem.INITIAL_STATE\n",
        "  while not solution:\n",
        "    if frontier == []:return False\n",
        "    else:\n",
        "      node = frontier.pop(Min(frontier))\n",
        "      visited.append(node.POINTER)\n",
        "      #print(\"Visited ones: \" , visited)\n",
        "      #printB(node.STATE)\n",
        "      src = node.POINTER\n",
        "      moves = [[src[0]+actions[a][0], src[1]+actions[a][1] ] for a in actions ]\n",
        "      possible = list(range(m))\n",
        "      possibleMoves = [i for i in moves if i[0] in possible and i[1] in possible and node.STATE[i[0] * m + i[1]] != \"*\" ]\n",
        "      #print(possibleMoves)\n",
        "      for i in possibleMoves:\n",
        "        newChild = child(problem,node,node.POINTER,i)\n",
        "        if newChild.POINTER not in visited:\n",
        "          frontier.append(newChild)\n",
        "          #print(\"child POINTER = \",newChild.POINTER,\"parent POINTER = \",newChild.PARENT.POINTER, \"Path Cost= \", newChild.PATHCOST,\" Total cost path= \", newChild.TOTALCOST)\n",
        "          if problem.GOAL_TEST(newChild.POINTER): \n",
        "            solution=True\n",
        "            finalSOL = newChild\n",
        "            return True\n",
        "\n",
        "def Min(F):\n",
        "  min=0\n",
        "  for j in range(0,len(frontier)):\n",
        "    if frontier[j].TOTALCOST <= frontier[min].TOTALCOST:\n",
        "      min=j\n",
        "  return min\n",
        "\n",
        "def printB(state):\n",
        "    print('\\t '+'_____ '*m)\n",
        "    for i in range(0,n):\n",
        "      print('\\t'+'|'+'     |'*m)\n",
        "      print('\\t'+'|'+('  {}  |'*m).format(state[i*m],state[i*m+1],state[i*m+2],state[i*m+3]))\n",
        "      print('\\t'+'|'+'_____|'*m)"
      ],
      "execution_count": null,
      "outputs": []
    },
    {
      "cell_type": "code",
      "metadata": {
        "colab": {
          "base_uri": "https://localhost:8080/"
        },
        "id": "_8KL7FMtjo4C",
        "outputId": "570c6008-f594-48ae-d220-41a7d3ddfa80"
      },
      "source": [
        "import random\n",
        "random.seed(3)\n",
        "n,m = 4,4\n",
        "state = [\" \"]*(n*m)\n",
        "for i in range(6):  \n",
        "  state[random.randint(0,n*m - 1)] = \"*\"\n",
        "state[0]=\"S\"\n",
        "state[3]=\"D\"\n",
        "printB(state)\n",
        "actions = {'l': [0,-1],'r': [0,+1],'u': [-1,0],'d': [+1,0],'ul': [-1,-1],'ur': [-1,+1],'dl': [+1,-1],'dr': [+1,+1]}\n",
        "startPointer = [[i // m,i % m] for i in range(len(state)) if state[i] == 'S' ][0]\n",
        "goalPointer = [[i // m,i % m] for i in range(len(state)) if state[i] == 'D' ][0]\n",
        "P = problem(state,goalPointer,actions)"
      ],
      "execution_count": null,
      "outputs": [
        {
          "output_type": "stream",
          "name": "stdout",
          "text": [
            "\t _____ _____ _____ _____ \n",
            "\t|     |     |     |     |\n",
            "\t|  S  |     |  *  |  D  |\n",
            "\t|_____|_____|_____|_____|\n",
            "\t|     |     |     |     |\n",
            "\t|  *  |     |     |  *  |\n",
            "\t|_____|_____|_____|_____|\n",
            "\t|     |     |     |     |\n",
            "\t|     |     |     |  *  |\n",
            "\t|_____|_____|_____|_____|\n",
            "\t|     |     |     |     |\n",
            "\t|     |     |     |  *  |\n",
            "\t|_____|_____|_____|_____|\n"
          ]
        }
      ]
    },
    {
      "cell_type": "code",
      "metadata": {
        "colab": {
          "base_uri": "https://localhost:8080/"
        },
        "id": "YfnvfRQ6leBe",
        "outputId": "7f736786-5faf-422a-c7a6-0af4a6eef904"
      },
      "source": [
        "frontier = [child(state,None,startPointer,None)]\n",
        "visited=[]\n",
        "finalSOL=[]\n",
        "if aStar(startPointer,P):\n",
        "  print(\"\\nSolution Exists: as followed\")\n",
        "else:\n",
        "  print(\"\\nSolution doesn't exits!!!\")\n",
        "\n",
        "printB(finalSOL.STATE)\n",
        "print(\"Total COSTPATH = \", finalSOL.TOTALCOST)"
      ],
      "execution_count": null,
      "outputs": [
        {
          "output_type": "stream",
          "name": "stdout",
          "text": [
            "\n",
            "Solution Exists: as followed\n",
            "\t _____ _____ _____ _____ \n",
            "\t|     |     |     |     |\n",
            "\t|  S  |     |  *  |  D  |\n",
            "\t|_____|_____|_____|_____|\n",
            "\t|     |     |     |     |\n",
            "\t|  *  |  .  |  .  |  *  |\n",
            "\t|_____|_____|_____|_____|\n",
            "\t|     |     |     |     |\n",
            "\t|     |     |     |  *  |\n",
            "\t|_____|_____|_____|_____|\n",
            "\t|     |     |     |     |\n",
            "\t|     |     |     |  *  |\n",
            "\t|_____|_____|_____|_____|\n",
            "Total COSTPATH =  3.0\n"
          ]
        }
      ]
    },
    {
      "cell_type": "code",
      "metadata": {
        "id": "aoiOsMyHxgUP"
      },
      "source": [
        ""
      ],
      "execution_count": null,
      "outputs": []
    },
    {
      "cell_type": "code",
      "metadata": {
        "id": "CbYo5PEm1i1Z"
      },
      "source": [
        ""
      ],
      "execution_count": null,
      "outputs": []
    }
  ]
}