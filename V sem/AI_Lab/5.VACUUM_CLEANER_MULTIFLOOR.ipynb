{
  "nbformat": 4,
  "nbformat_minor": 0,
  "metadata": {
    "colab": {
      "name": "5.VACUUM_CLEANER.ipynb",
      "provenance": []
    },
    "kernelspec": {
      "name": "python3",
      "display_name": "Python 3"
    },
    "language_info": {
      "name": "python"
    }
  },
  "cells": [
    {
      "cell_type": "code",
      "metadata": {
        "id": "nUlWIuwiZT_J"
      },
      "source": [
        "state = [\"*V\", \"*\"]\n",
        "vPointer = 0\n",
        "def simpleAgent(vPointer):\n",
        "    i=8\n",
        "    while i:\n",
        "        if state[vPointer].startswith(\"*\"):\n",
        "            state[vPointer]=\"V\"\n",
        "            print(\"CLEAN\")\n",
        "        elif state[vPointer].startswith(\"V\"):\n",
        "            if vPointer == 0:\n",
        "                state[vPointer]=\"\"\n",
        "                vPointer += 1\n",
        "                state[vPointer]= state[vPointer] + \"V\"\n",
        "                print(\"MOVE RIGHT\")\n",
        "            elif vPointer == 1:\n",
        "                state[vPointer]=\"\"\n",
        "                vPointer -= 1\n",
        "                state[vPointer]= state[vPointer] + \"V\"\n",
        "                print(\"MOVE LEFT\")\n",
        "        i -= 1\n",
        "        print(state)"
      ],
      "execution_count": null,
      "outputs": []
    },
    {
      "cell_type": "code",
      "metadata": {
        "colab": {
          "base_uri": "https://localhost:8080/"
        },
        "id": "R62zqg5-ruT7",
        "outputId": "c6be7010-f8be-4318-c95a-e9c3b72912aa"
      },
      "source": [
        "print(state)\n",
        "simpleAgent(vPointer)"
      ],
      "execution_count": null,
      "outputs": [
        {
          "output_type": "stream",
          "name": "stdout",
          "text": [
            "['*V', '*']\n",
            "CLEAN\n",
            "['V', '*']\n",
            "MOVE RIGHT\n",
            "['', '*V']\n",
            "CLEAN\n",
            "['', 'V']\n",
            "MOVE LEFT\n",
            "['V', '']\n",
            "MOVE RIGHT\n",
            "['', 'V']\n",
            "MOVE LEFT\n",
            "['V', '']\n",
            "MOVE RIGHT\n",
            "['', 'V']\n",
            "MOVE LEFT\n",
            "['V', '']\n"
          ]
        }
      ]
    },
    {
      "cell_type": "code",
      "metadata": {
        "id": "nFrOHpayrCIi"
      },
      "source": [
        "state = [\"*\", \"*\",\"\",\"*\"]\n",
        "n=len(state)\n",
        "vPointer = 1\n",
        "\n",
        "class modelBased:\n",
        "    def __init__(self,Mstate,vPointer):\n",
        "        self.STATE = Mstate\n",
        "        self.ACTIONS = []\n",
        "        self.MODEL = []\n",
        "        self.STATEBOOL = [i.startswith(\"*\") for i in state]\n",
        "        self.vPointer = vPointer\n",
        "\n",
        "    def UPDATE_STATE(self,status, vPointer):\n",
        "        self.STATE[vPointer] = status\n",
        "\n",
        "    def WORKING(self,status,vPointer):\n",
        "        self.UPDATE_STATE(status,vPointer)\n",
        "        if  self.STATE[vPointer].startswith(\"*\"):\n",
        "            self.STATE[vPointer]=\"V\"\n",
        "            state[vPointer]=\"V\" #syncing with env\n",
        "            self.STATEBOOL[vPointer] = False\n",
        "            print(\"CLEANED, \",\"Agents perspective: \",self.STATE,\"Real State : \",state)\n",
        "        elif  self.STATE[vPointer].startswith(\"V\"):\n",
        "            if vPointer + 1 < n and sum(self.STATEBOOL[vPointer:]) !=0 :\n",
        "                self.STATE[vPointer]=\"\"\n",
        "                state[vPointer]=\"\"   #syncing with env\n",
        "                vPointer += 1\n",
        "                self.STATE[vPointer] += \"V\"\n",
        "                state[vPointer]+= \"V\"  #syncing with env\n",
        "                print(\"MOVE RIGHT\")\n",
        "            else:\n",
        "                self.STATE[vPointer]=\"\"\n",
        "                state[vPointer]=\"\"   #syncing with env\n",
        "                vPointer -= 1\n",
        "                self.STATE[vPointer] += \"V\"\n",
        "                state[vPointer] += \"V\" #syncing with env\n",
        "                print(\"MOVE LEFT\")                 \n",
        "        if  sum(self.STATEBOOL) != 0:\n",
        "            return self.WORKING(state[vPointer],vPointer)\n",
        "        else:\n",
        "            return True"
      ],
      "execution_count": 49,
      "outputs": []
    },
    {
      "cell_type": "code",
      "metadata": {
        "id": "Byykt9VWtiHI",
        "colab": {
          "base_uri": "https://localhost:8080/"
        },
        "outputId": "3042559b-8ce1-4698-f4b8-bf641adf732f"
      },
      "source": [
        "MB = modelBased([\"\"]*n,vPointer)\n",
        "s = state[vPointer]\n",
        "print(\"Initial state: \", state)\n",
        "print(\"Agent at : \", vPointer)\n",
        "if MB.WORKING(s,vPointer):\n",
        "    print(\"Work Finished!!\")\n",
        "else:\n",
        "    print(\"Some Error!!\")"
      ],
      "execution_count": 50,
      "outputs": [
        {
          "output_type": "stream",
          "name": "stdout",
          "text": [
            "Initial state:  ['*', '*', '', '*']\n",
            "Agent at :  1\n",
            "CLEANED,  Agents perspective:  ['', 'V', '', ''] Real State :  ['*', 'V', '', '*']\n",
            "MOVE RIGHT\n",
            "MOVE RIGHT\n",
            "CLEANED,  Agents perspective:  ['', '', '', 'V'] Real State :  ['*', '', '', 'V']\n",
            "MOVE LEFT\n",
            "MOVE LEFT\n",
            "MOVE LEFT\n",
            "CLEANED,  Agents perspective:  ['V', '', '', ''] Real State :  ['V', '', '', '']\n",
            "Work Finished!!\n"
          ]
        }
      ]
    },
    {
      "cell_type": "code",
      "source": [
        ""
      ],
      "metadata": {
        "id": "IolzAc-HAviW"
      },
      "execution_count": null,
      "outputs": []
    }
  ]
}