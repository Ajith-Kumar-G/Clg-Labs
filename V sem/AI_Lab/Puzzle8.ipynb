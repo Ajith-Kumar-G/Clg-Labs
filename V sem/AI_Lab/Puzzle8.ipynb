{
  "nbformat": 4,
  "nbformat_minor": 0,
  "metadata": {
    "colab": {
      "name": "Puzzle8.ipynb",
      "provenance": [],
      "collapsed_sections": []
    },
    "kernelspec": {
      "name": "python3",
      "display_name": "Python 3"
    },
    "language_info": {
      "name": "python"
    }
  },
  "cells": [
    {
      "cell_type": "code",
      "metadata": {
        "id": "j3eHGjVnsCVZ"
      },
      "source": [
        "class node:\n",
        "    def __init__(self,state,parent,action):\n",
        "        self.state = state\n",
        "        self.parent = parent\n",
        "        self.action = action\n",
        "        self.path_cost = totalManhatten(state)\n",
        "        self.next = None\n",
        "\n",
        "class tree:\n",
        "    def __init__(self):\n",
        "        self.head = None\n",
        "    def printTree(self):\n",
        "        temp = self.head\n",
        "        printB(temp.state)\n",
        "        print(\"Parent = \", temp.parent, \"\\nAction = \", temp.action)"
      ],
      "execution_count": null,
      "outputs": []
    },
    {
      "cell_type": "code",
      "metadata": {
        "colab": {
          "base_uri": "https://localhost:8080/"
        },
        "id": "mK_G7c-xRq-f",
        "outputId": "0aa85c7b-ce2e-44c0-f011-e1f267c65e97"
      },
      "source": [
        "import random\n",
        "import copy\n",
        "random.seed(1)\n",
        "#initialize the board and shuffle it\n",
        "#lst = [i for i in range(9)]\n",
        "lst = [1,2,3,4,5,6,0,7,8]\n",
        "glst = [1,2,3,4,5,6,7,8,0]\n",
        "pos = {'edge' : [[0,0],[0,2],[2,0],[2,2]], 'ínbet' : [[0,1],[1,0],[1,2],[2,1]], 'mid' : [[1,1]]}\n",
        "values = []\n",
        "goalValues = [[1, 2, 3], [4, 5, 6], [7, 8, 0]]\n",
        "#random.shuffle(lst)\n",
        "flag = True\n",
        "for i in range(0,len(lst),3):\n",
        "    values.append(lst[i:i+3])\n",
        "print('present  state = ',values, '\\nGoal state = ',goalValues)"
      ],
      "execution_count": null,
      "outputs": [
        {
          "output_type": "stream",
          "name": "stdout",
          "text": [
            "present  state =  [[1, 2, 3], [4, 5, 6], [0, 7, 8]] \n",
            "Goal state =  [[1, 2, 3], [4, 5, 6], [7, 8, 0]]\n"
          ]
        }
      ]
    },
    {
      "cell_type": "code",
      "metadata": {
        "colab": {
          "base_uri": "https://localhost:8080/"
        },
        "id": "IPDdrlW1RkXM",
        "outputId": "4efde46e-d3aa-4458-fe18-83fd8bbfd396"
      },
      "source": [
        "#To print the board\n",
        "def printB(v):\n",
        "    print('\\t '+''.center(17,'_'))\n",
        "    print('\\t'+'|     |     |     |')\n",
        "    print('\\t'+'|  {}  |  {}  |  {}  |'.format(v[0][0],v[0][1],v[0][2]))\n",
        "    print('\\t'+'|_____|_____|_____|')\n",
        "    print('\\t'+'|     |     |     |')\n",
        "    print('\\t'+'|  {}  |  {}  |  {}  |'.format(v[1][0],v[1][1],v[1][2]))\n",
        "    print('\\t'+'|_____|_____|_____|')\n",
        "    print('\\t'+'|     |     |     |')\n",
        "    print('\\t'+'|  {}  |  {}  |  {}  |'.format(v[2][0],v[2][1],v[2][2]))\n",
        "    print('\\t'+'|_____|_____|_____|')\n",
        "\n",
        "printB(values)\n",
        "printB(goalValues)"
      ],
      "execution_count": null,
      "outputs": [
        {
          "output_type": "stream",
          "name": "stdout",
          "text": [
            "\t _________________\n",
            "\t|     |     |     |\n",
            "\t|  1  |  2  |  3  |\n",
            "\t|_____|_____|_____|\n",
            "\t|     |     |     |\n",
            "\t|  4  |  5  |  6  |\n",
            "\t|_____|_____|_____|\n",
            "\t|     |     |     |\n",
            "\t|  0  |  7  |  8  |\n",
            "\t|_____|_____|_____|\n",
            "\t _________________\n",
            "\t|     |     |     |\n",
            "\t|  1  |  2  |  3  |\n",
            "\t|_____|_____|_____|\n",
            "\t|     |     |     |\n",
            "\t|  4  |  5  |  6  |\n",
            "\t|_____|_____|_____|\n",
            "\t|     |     |     |\n",
            "\t|  7  |  8  |  0  |\n",
            "\t|_____|_____|_____|\n"
          ]
        }
      ]
    },
    {
      "cell_type": "code",
      "metadata": {
        "id": "EiaQ900PQIsv"
      },
      "source": [
        "#get manhattan distance\n",
        "def manhattan(X, Y):\n",
        "    return (sum([abs(X[i]-Y[i]) for i in range(len(X))]))\n",
        "    \n",
        "#get total manhattan Distance\n",
        "def totalManhatten(A):\n",
        "       return sum([manhattan(getIndexCur(A,i),getIndexGoal(A,i)) for i in lst])\n",
        "\n"
      ],
      "execution_count": null,
      "outputs": []
    },
    {
      "cell_type": "code",
      "metadata": {
        "id": "dWnv0GJvTWnE"
      },
      "source": [
        "#to get the index of the element\n",
        "def getIndexCur(A,v):\n",
        "    for i in range(len(A)):\n",
        "        if v in A[i]:\n",
        "            return [i,A[i].index(v)]\n",
        "def getIndexGoal(A,v):\n",
        "    for i in range(len(goalValues)):\n",
        "        if v in goalValues[i]:\n",
        "            return [i,goalValues[i].index(v)]"
      ],
      "execution_count": null,
      "outputs": []
    },
    {
      "cell_type": "code",
      "metadata": {
        "id": "8eS96feqRoZf"
      },
      "source": [
        "# my logic to solve it\n",
        "def myalg(v):\n",
        "    global flag\n",
        "    kpos = ''\n",
        "    key = getIndexCur(v,0)\n",
        "    for i in pos:\n",
        "        if key in pos[i]:\n",
        "            kpos = i\n",
        "    print(kpos,key)\n",
        "    u = [key[0]-1,key[1]] if key[0]-1 in [0,1,2] else False\n",
        "    d = [key[0]+1,key[1]] if key[0]+1 in [0,1,2] else False\n",
        "    l = [key[0],key[1] - 1] if key[1]-1 in [0,1,2] else False\n",
        "    r = [key[0],key[1] + 1] if key[1]+1 in [0,1,2] else False\n",
        "    mov = {'u':u,'d':d,'l':l,'r':r}\n",
        "    pMoves = {i:mov[i] for i in mov if mov[i]}\n",
        "    print(pMoves)\n",
        "    dis = {i:slide(copy.deepcopy(v),key,pMoves[i]) for i in pMoves}\n",
        "    print(dis)\n",
        "    action = min(dis, key = dis.get)\n",
        "    print(action)\n",
        "    slide(v,key, pMoves[action])\n",
        "    printB(v)\n",
        "    if dis[action] == 0:\n",
        "        print('solved!!')\n",
        "        flag = False\n",
        "        return\n",
        "    #createChild(v,action)"
      ],
      "execution_count": null,
      "outputs": []
    },
    {
      "cell_type": "code",
      "metadata": {
        "id": "0qsfsoqHPTUq"
      },
      "source": [
        "def checkGoal(A):\n",
        "    if totalManhatten(A) == 0:return True\n",
        "    return False\n"
      ],
      "execution_count": null,
      "outputs": []
    },
    {
      "cell_type": "code",
      "metadata": {
        "id": "8hk81_QVGlCT"
      },
      "source": [
        "def createChild(action,v,cost):\n",
        "    temp = node(v,action,)"
      ],
      "execution_count": null,
      "outputs": []
    },
    {
      "cell_type": "code",
      "metadata": {
        "id": "mlbLzYneSgmG"
      },
      "source": [
        "#to slide the position once\n",
        "def slide(v,x,y):\n",
        "    v[x[0]][x[1]], v[y[0]][y[1]] =  v[y[0]][y[1]], v[x[0]][x[1]]\n",
        "    return totalManhatten(v)\n"
      ],
      "execution_count": null,
      "outputs": []
    },
    {
      "cell_type": "code",
      "metadata": {
        "colab": {
          "base_uri": "https://localhost:8080/"
        },
        "id": "U6GIqGpQSkrA",
        "outputId": "b0244475-5d91-4b90-8b73-a323717e9404"
      },
      "source": [
        "iniV = copy.deepcopy(values)\n",
        "while flag:\n",
        "    myalg(iniV)"
      ],
      "execution_count": null,
      "outputs": [
        {
          "output_type": "stream",
          "name": "stdout",
          "text": [
            "edge [2, 0]\n",
            "{'u': [1, 0], 'r': [2, 1]}\n",
            "{'u': 6, 'r': 2}\n",
            "r\n",
            "\t _________________\n",
            "\t|     |     |     |\n",
            "\t|  1  |  2  |  3  |\n",
            "\t|_____|_____|_____|\n",
            "\t|     |     |     |\n",
            "\t|  4  |  5  |  6  |\n",
            "\t|_____|_____|_____|\n",
            "\t|     |     |     |\n",
            "\t|  7  |  0  |  8  |\n",
            "\t|_____|_____|_____|\n",
            "ínbet [2, 1]\n",
            "{'u': [1, 1], 'l': [2, 0], 'r': [2, 2]}\n",
            "{'u': 4, 'l': 4, 'r': 0}\n",
            "r\n",
            "\t _________________\n",
            "\t|     |     |     |\n",
            "\t|  1  |  2  |  3  |\n",
            "\t|_____|_____|_____|\n",
            "\t|     |     |     |\n",
            "\t|  4  |  5  |  6  |\n",
            "\t|_____|_____|_____|\n",
            "\t|     |     |     |\n",
            "\t|  7  |  8  |  0  |\n",
            "\t|_____|_____|_____|\n",
            "solved!!\n"
          ]
        }
      ]
    },
    {
      "cell_type": "code",
      "metadata": {
        "id": "AHryl-CPWVE6"
      },
      "source": [
        ""
      ],
      "execution_count": null,
      "outputs": []
    },
    {
      "cell_type": "code",
      "metadata": {
        "id": "jmqDp-rUTQ3b"
      },
      "source": [
        "T = tree()\n",
        "T.head = node(copy.deepcopy(values),None,None)"
      ],
      "execution_count": null,
      "outputs": []
    },
    {
      "cell_type": "code",
      "metadata": {
        "colab": {
          "base_uri": "https://localhost:8080/"
        },
        "id": "JWhWDgFGU5kH",
        "outputId": "fdcd748b-d3ae-4962-9a7a-61633244a592"
      },
      "source": [
        "T.printTree()"
      ],
      "execution_count": null,
      "outputs": [
        {
          "output_type": "stream",
          "name": "stdout",
          "text": [
            "\t _________________\n",
            "\t|     |     |     |\n",
            "\t|  1  |  2  |  3  |\n",
            "\t|_____|_____|_____|\n",
            "\t|     |     |     |\n",
            "\t|  4  |  5  |  6  |\n",
            "\t|_____|_____|_____|\n",
            "\t|     |     |     |\n",
            "\t|  7  |  0  |  8  |\n",
            "\t|_____|_____|_____|\n",
            "Parent =  None \n",
            "Action =  None\n"
          ]
        }
      ]
    },
    {
      "cell_type": "code",
      "metadata": {
        "colab": {
          "base_uri": "https://localhost:8080/"
        },
        "id": "38cQxchbFDBy",
        "outputId": "bb29b789-7eb8-4624-c015-315b892f1d78"
      },
      "source": [
        ""
      ],
      "execution_count": null,
      "outputs": [
        {
          "output_type": "stream",
          "name": "stdout",
          "text": [
            "0\n",
            "1\n",
            "2\n",
            "3\n",
            "4\n",
            "5\n",
            "6\n",
            "7\n",
            "8\n",
            "9\n"
          ]
        }
      ]
    },
    {
      "cell_type": "code",
      "metadata": {
        "id": "-mZ7lNA7RI1y"
      },
      "source": [
        ""
      ],
      "execution_count": null,
      "outputs": []
    }
  ]
}