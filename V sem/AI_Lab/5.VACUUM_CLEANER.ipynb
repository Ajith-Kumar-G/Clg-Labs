{
  "nbformat": 4,
  "nbformat_minor": 0,
  "metadata": {
    "colab": {
      "name": "5.VACUUM_CLEANER.ipynb",
      "provenance": []
    },
    "kernelspec": {
      "name": "python3",
      "display_name": "Python 3"
    },
    "language_info": {
      "name": "python"
    }
  },
  "cells": [
    {
      "cell_type": "code",
      "metadata": {
        "id": "nUlWIuwiZT_J"
      },
      "source": [
        "state = [\"*V\", \"*\"]\n",
        "vPointer = 0\n",
        "def simpleAgent(vPointer):\n",
        "    i=8\n",
        "    while i:\n",
        "        if state[vPointer].startswith(\"*\"):\n",
        "            state[vPointer]=\"V\"\n",
        "            print(\"CLEAN\")\n",
        "        elif state[vPointer].startswith(\"V\"):\n",
        "            if vPointer == 0:\n",
        "                state[vPointer]=\"\"\n",
        "                vPointer += 1\n",
        "                state[vPointer]= state[vPointer] + \"V\"\n",
        "                print(\"MOVE RIGHT\")\n",
        "            elif vPointer == 1:\n",
        "                state[vPointer]=\"\"\n",
        "                vPointer -= 1\n",
        "                state[vPointer]= state[vPointer] + \"V\"\n",
        "                print(\"MOVE LEFT\")\n",
        "        i -= 1\n",
        "        print(state)"
      ],
      "execution_count": null,
      "outputs": []
    },
    {
      "cell_type": "code",
      "metadata": {
        "colab": {
          "base_uri": "https://localhost:8080/"
        },
        "id": "R62zqg5-ruT7",
        "outputId": "c6be7010-f8be-4318-c95a-e9c3b72912aa"
      },
      "source": [
        "print(state)\n",
        "simpleAgent(vPointer)"
      ],
      "execution_count": null,
      "outputs": [
        {
          "output_type": "stream",
          "name": "stdout",
          "text": [
            "['*V', '*']\n",
            "CLEAN\n",
            "['V', '*']\n",
            "MOVE RIGHT\n",
            "['', '*V']\n",
            "CLEAN\n",
            "['', 'V']\n",
            "MOVE LEFT\n",
            "['V', '']\n",
            "MOVE RIGHT\n",
            "['', 'V']\n",
            "MOVE LEFT\n",
            "['V', '']\n",
            "MOVE RIGHT\n",
            "['', 'V']\n",
            "MOVE LEFT\n",
            "['V', '']\n"
          ]
        }
      ]
    },
    {
      "cell_type": "code",
      "metadata": {
        "id": "nFrOHpayrCIi"
      },
      "source": [
        "state = [\"*\", \"*V\"]\n",
        "vPointer = 1\n",
        "\n",
        "class modelBased:\n",
        "    def __init__(self,state,vPointer):\n",
        "        self.STATE = state\n",
        "        self.ACTIONS = []\n",
        "        self.MODEL = []\n",
        "        self.STATEBOOL = [-1,-1]\n",
        "        self.vPointer = vPointer\n",
        "\n",
        "    def UPDATE_STATE(self,status, vPointer):\n",
        "        self.STATE[vPointer] = status\n",
        "\n",
        "    def WORKING(self,status,vPointer):\n",
        "        self.UPDATE_STATE(status,vPointer)\n",
        "        if  self.STATE[vPointer].startswith(\"*\"):\n",
        "            self.STATE[vPointer]=\"V\"\n",
        "            state[vPointer]=\"V\" #syncing with env\n",
        "            self.STATEBOOL[vPointer] += 1\n",
        "            print(\"CLEANED \",self.STATE,state)\n",
        "        elif  self.STATE[vPointer].startswith(\"V\"):\n",
        "            if vPointer == 0:\n",
        "                self.STATE[vPointer]=\"\"\n",
        "                state[vPointer]=\"\"   #syncing with env\n",
        "                vPointer += 1\n",
        "                self.STATE[vPointer] += \"V\"\n",
        "                state[vPointer]+= \"V\"  #syncing with env\n",
        "                print(\"MOVE RIGHT\")\n",
        "            elif vPointer == 1:\n",
        "                self.STATE[vPointer]=\"\"\n",
        "                state[vPointer]=\"\"   #syncing with env\n",
        "                vPointer -= 1\n",
        "                self.STATE[vPointer] += \"V\"\n",
        "                state[vPointer] += \"V\" #syncing with env\n",
        "                print(\"MOVE LEFT\")\n",
        "        if  sum([i for i in self.STATEBOOL]) < 0:\n",
        "            print(state[vPointer],vPointer)\n",
        "            return self.WORKING(state[vPointer],vPointer)\n",
        "        else:\n",
        "            return True\n"
      ],
      "execution_count": 47,
      "outputs": []
    },
    {
      "cell_type": "code",
      "metadata": {
        "id": "Byykt9VWtiHI",
        "colab": {
          "base_uri": "https://localhost:8080/"
        },
        "outputId": "306879ed-8c9a-4786-d76e-f32f49dcc20c"
      },
      "source": [
        "MB = modelBased([\"\"]*2,vPointer)\n",
        "s = state[vPointer]\n",
        "if MB.WORKING(s,vPointer):\n",
        "    print(\"Work Finished!!\")\n",
        "else:\n",
        "    print(\"Some Error!!\")"
      ],
      "execution_count": 48,
      "outputs": [
        {
          "output_type": "stream",
          "name": "stdout",
          "text": [
            "CLEANED  ['', 'V'] ['*', 'V']\n",
            "V 1\n",
            "MOVE LEFT\n",
            "*V 0\n",
            "CLEANED  ['V', ''] ['V', '']\n",
            "Work Finished!!\n"
          ]
        }
      ]
    },
    {
      "cell_type": "code",
      "metadata": {
        "id": "xs87zYv1mrzX"
      },
      "source": [
        ""
      ],
      "execution_count": null,
      "outputs": []
    }
  ]
}