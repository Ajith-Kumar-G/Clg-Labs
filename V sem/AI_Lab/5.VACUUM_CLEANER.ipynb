{
  "nbformat": 4,
  "nbformat_minor": 0,
  "metadata": {
    "colab": {
      "name": "VACUUM CLEANER.ipynb",
      "provenance": []
    },
    "kernelspec": {
      "name": "python3",
      "display_name": "Python 3"
    },
    "language_info": {
      "name": "python"
    }
  },
  "cells": [
    {
      "cell_type": "code",
      "metadata": {
        "id": "nUlWIuwiZT_J"
      },
      "source": [
        "state = [\"*V\", \"*\"]\n",
        "vPointer = 0\n",
        "def simpleAgent(vPointer):\n",
        "    i=8\n",
        "    while i:\n",
        "        if state[vPointer].startswith(\"*\"):\n",
        "            state[vPointer]=\"V\"\n",
        "            print(\"CLEAN\")\n",
        "        elif state[vPointer].startswith(\"V\"):\n",
        "            if vPointer == 0:\n",
        "                state[vPointer]=\"\"\n",
        "                vPointer += 1\n",
        "                state[vPointer]= state[vPointer] + \"V\"\n",
        "                print(\"MOVE RIGHT\")\n",
        "            elif vPointer == 1:\n",
        "                state[vPointer]=\"\"\n",
        "                vPointer -= 1\n",
        "                state[vPointer]= state[vPointer] + \"V\"\n",
        "                print(\"MOVE LEFT\")\n",
        "        i -= 1\n",
        "        print(state)"
      ],
      "execution_count": null,
      "outputs": []
    },
    {
      "cell_type": "code",
      "metadata": {
        "colab": {
          "base_uri": "https://localhost:8080/"
        },
        "id": "R62zqg5-ruT7",
        "outputId": "c6be7010-f8be-4318-c95a-e9c3b72912aa"
      },
      "source": [
        "print(state)\n",
        "simpleAgent(vPointer)"
      ],
      "execution_count": null,
      "outputs": [
        {
          "output_type": "stream",
          "name": "stdout",
          "text": [
            "['*V', '*']\n",
            "CLEAN\n",
            "['V', '*']\n",
            "MOVE RIGHT\n",
            "['', '*V']\n",
            "CLEAN\n",
            "['', 'V']\n",
            "MOVE LEFT\n",
            "['V', '']\n",
            "MOVE RIGHT\n",
            "['', 'V']\n",
            "MOVE LEFT\n",
            "['V', '']\n",
            "MOVE RIGHT\n",
            "['', 'V']\n",
            "MOVE LEFT\n",
            "['V', '']\n"
          ]
        }
      ]
    },
    {
      "cell_type": "code",
      "metadata": {
        "id": "nFrOHpayrCIi"
      },
      "source": [
        "state = [\"*V\", \"*\"]\n",
        "vPointer = 0\n",
        "actions = { \"CLEAN\": 'self.STATE[vPointer]=\"V\"' , \"MOVE LEFT\":' vPointer -= 1', \"MOVE RIGHT\": 'vPointer += 1', \"No ACTION\":'return True'}\n",
        "\n",
        "class modelBased:\n",
        "    def __init__(self,state,vPointer):\n",
        "        self.STATE = state\n",
        "        self.STATEBOOL = [False,False]\n",
        "        self.vPointer = vPointer\n",
        "        self.ACTIONS = [\"CLEAN\"]\n",
        "    def UPDATE_STATE(status, vPointer):\n",
        "        self.STATE[vPointer] = status\n",
        "    def WORKING(status,vPointer):\n",
        "        self.UPDATE_STATE(status,vPointer)\n",
        "        if  self.STATE[vPointer].startswith(\"*\"):\n",
        "            self.STATE[vPointer]=\"V\"\n",
        "            print(\"CLEAN\")\n",
        "        elif  self.STATE[vPointer].startswith(\"V\"):\n",
        "            if vPointer == 0:\n",
        "                self.STATE[vPointer]=\"\"\n",
        "                vPointer += 1\n",
        "                self.STATE[vPointer]=  self.STATE[vPointer] + \"V\"\n",
        "                print(\"MOVE RIGHT\")\n",
        "            elif vPointer == 1:\n",
        "                self.STATE[vPointer]=\"\"\n",
        "                vPointer -= 1\n",
        "                self.STATE[vPointer]=  self.STATE[vPointer] + \"V\"\n",
        "                print(\"MOVE LEFT\")\n"
      ],
      "execution_count": null,
      "outputs": []
    },
    {
      "cell_type": "code",
      "metadata": {
        "id": "Byykt9VWtiHI"
      },
      "source": [
        "MB = modelBased([],vPointer)"
      ],
      "execution_count": null,
      "outputs": []
    },
    {
      "cell_type": "code",
      "metadata": {
        "id": "aioJgvcXlr3b"
      },
      "source": [
        "for i in while (MB.STATE[0] )"
      ],
      "execution_count": null,
      "outputs": []
    },
    {
      "cell_type": "code",
      "metadata": {
        "id": "xs87zYv1mrzX"
      },
      "source": [
        ""
      ],
      "execution_count": null,
      "outputs": []
    }
  ]
}