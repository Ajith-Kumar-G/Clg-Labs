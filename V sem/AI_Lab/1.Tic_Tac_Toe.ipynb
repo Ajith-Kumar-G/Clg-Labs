{
  "nbformat": 4,
  "nbformat_minor": 0,
  "metadata": {
    "colab": {
      "name": "1.Tic_Tac_Toe.ipynb",
      "provenance": [],
      "collapsed_sections": []
    },
    "kernelspec": {
      "name": "python3",
      "display_name": "Python 3"
    },
    "language_info": {
      "name": "python"
    }
  },
  "cells": [
    {
      "cell_type": "code",
      "metadata": {
        "id": "lEtRACf3JehE"
      },
      "source": [
        "import random"
      ],
      "execution_count": null,
      "outputs": []
    },
    {
      "cell_type": "code",
      "metadata": {
        "colab": {
          "base_uri": "https://localhost:8080/",
          "height": 0
        },
        "id": "zktDP4VQJrta",
        "outputId": "92a24224-ff85-4ae0-efd3-a83505b7e300"
      },
      "source": [
        "#initialization\n",
        "values  = [' ' for _ in range(9)]\n",
        "freeLoc = [True for _ in range(9)]\n",
        "player1, p1S = input(\"Enter Player name: \"), input(\"Enter Symbol: \")\n",
        "sym = {player1 : p1S, 'system' : 'X' if p1S != 'X' else 'O'}\n",
        "player = [player1, \"system\"]\n",
        "playerMoves = {player1 : [] , 'system' : []}\n",
        "flag = False"
      ],
      "execution_count": 2,
      "outputs": [
        {
          "name": "stdout",
          "output_type": "stream",
          "text": [
            "Enter Player name: Ajith\n",
            "Enter Symbol: X\n"
          ]
        }
      ]
    },
    {
      "cell_type": "code",
      "metadata": {
        "id": "1VpvPL-uRujK",
        "colab": {
          "base_uri": "https://localhost:8080/",
          "height": 0
        },
        "outputId": "0344e2ea-ad66-453c-c8b5-aa1efd394c88"
      },
      "source": [
        "def printT(state):\n",
        "    m=3\n",
        "    n=3\n",
        "    print('\\t '+'_____ '*m)\n",
        "    for i in range(0,n):\n",
        "      print('\\t'+'|'+'     |'*m)\n",
        "      print('\\t'+'|'+('  {}  |'*m).format(state[i*m],state[i*m+1],state[i*m+2]))\n",
        "      print('\\t'+'|'+'_____|'*m)\n",
        "\n",
        "printT(values)"
      ],
      "execution_count": 3,
      "outputs": [
        {
          "output_type": "stream",
          "name": "stdout",
          "text": [
            "\t _____ _____ _____ \n",
            "\t|     |     |     |\n",
            "\t|     |     |     |\n",
            "\t|_____|_____|_____|\n",
            "\t|     |     |     |\n",
            "\t|     |     |     |\n",
            "\t|_____|_____|_____|\n",
            "\t|     |     |     |\n",
            "\t|     |     |     |\n",
            "\t|_____|_____|_____|\n"
          ]
        }
      ]
    },
    {
      "cell_type": "code",
      "metadata": {
        "colab": {
          "base_uri": "https://localhost:8080/",
          "height": 35
        },
        "id": "jItfEouymsyK",
        "outputId": "8c7a12ed-adda-47db-a48a-24bf7d7ed33b"
      },
      "source": [
        "cur_player = random.choice(player)\n",
        "if cur_player == 'system':\n",
        "  flag = True\n",
        "cur_player"
      ],
      "execution_count": null,
      "outputs": [
        {
          "output_type": "execute_result",
          "data": {
            "application/vnd.google.colaboratory.intrinsic+json": {
              "type": "string"
            },
            "text/plain": [
              "'system'"
            ]
          },
          "metadata": {},
          "execution_count": 19
        }
      ]
    },
    {
      "cell_type": "code",
      "metadata": {
        "id": "F-W0xbflmxlO"
      },
      "source": [
        "def game():\n",
        "  if cur_player != 'system':\n",
        "    takepos()\n",
        "  else:\n",
        "    print(\"Its System Turn, Thinking...\")\n",
        "    myalg()\n",
        "def takepos():\n",
        "  pos = int(input(\"Its {} turn. Enter the position:(press -1 to quit) \".format(player[0])))\n",
        "  if pos == -1:\n",
        "    return\n",
        "  check(pos)"
      ],
      "execution_count": null,
      "outputs": []
    },
    {
      "cell_type": "code",
      "metadata": {
        "id": "iDCWspmOmzx_"
      },
      "source": [
        "#handle the position taken\n",
        "def check(pos):\n",
        "    if cur_player != \"system\":\n",
        "        if pos>9 or pos <1 :\n",
        "          print(\"Error location. Try Again\")\n",
        "          takepos()\n",
        "        if values[pos-1] != ' ':\n",
        "          print(\"The position is occupied, enter again\")\n",
        "          takepos()\n",
        "        else:\n",
        "          setDetails(pos)"
      ],
      "execution_count": null,
      "outputs": []
    },
    {
      "cell_type": "code",
      "metadata": {
        "id": "-KEwUreXm2IL"
      },
      "source": [
        "#to change player\n",
        "def changeturn(cp):\n",
        "  global cur_player\n",
        "  if cp == 'system':\n",
        "    cur_player  = player[0]\n",
        "  else: \n",
        "    cur_player = player[1]"
      ],
      "execution_count": null,
      "outputs": []
    },
    {
      "cell_type": "code",
      "metadata": {
        "id": "NZN1dzQqm6nM"
      },
      "source": [
        "#Algorithm to counter player moves\n",
        "def myalg():\n",
        "  opponent = player[0] if cur_player == 'system' else player[1]\n",
        "  free = [i+1 for i in range(len(freeLoc)) if freeLoc[i]]\n",
        "  edge = {1:[2,4],3:[2,6],7:[4,8],9:[6,8]}\n",
        "  seq = {'mid':5,'edges':[1,3,7,9],'inbet':[2,4,6,8]}\n",
        "  if values[5-1] == ' ':\n",
        "    pos = 5\n",
        "    setDetails(pos)\n",
        "  else:\n",
        "    lastMov = playerMoves[opponent][-1]\n",
        "    Apos = aboutTowin()\n",
        "    if lastMov in seq['inbet']:\n",
        "      if lastMov in [2,8]:\n",
        "        pos = lastMov+1 if lastMov+1 in free else lastMov-1\n",
        "      else:\n",
        "        pos = lastMov+3 if lastMov+3 in free else lastMov-3\n",
        "      if Apos != -1:\n",
        "        pos = Apos\n",
        "      setDetails(pos)\n",
        "    else:\n",
        "      for i in edge[lastMov]:\n",
        "        if i in free:\n",
        "          pos = i\n",
        "          if Apos != -1:\n",
        "            pos = Apos\n",
        "          setDetails(pos)\n",
        "\n"
      ],
      "execution_count": null,
      "outputs": []
    },
    {
      "cell_type": "code",
      "metadata": {
        "id": "eoo9893Iu8dX"
      },
      "source": [
        "#To save the position and update the details\n",
        "def setDetails(n):\n",
        "    playerMoves[cur_player].append(n)\n",
        "    freeLoc[n-1] = False\n",
        "    values[n-1] = sym[cur_player]\n",
        "    printT(values)\n",
        "    win = checkWin([i+1 for i in range(len(freeLoc)) if freeLoc[i]])\n",
        "    if not win:\n",
        "        changeturn(cur_player)\n",
        "        game()\n",
        "    return\n"
      ],
      "execution_count": null,
      "outputs": []
    },
    {
      "cell_type": "code",
      "metadata": {
        "id": "a0jX9xo-5ZlZ"
      },
      "source": [
        "#to check win state\n",
        "def checkWin(free):\n",
        "    winCond = [[1,2,3],[4,5,6],[7,8,9],[1,4,7],[2,5,8],[3,6,9],[1,5,9],[3,5,7]]\n",
        "    for i in winCond:\n",
        "        wF = True\n",
        "        for j in i:\n",
        "            if j not in playerMoves[cur_player]:\n",
        "                wF = False\n",
        "        if wF:\n",
        "             print(\"{} has Won!!\".format(cur_player))\n",
        "             return True\n",
        "    if len(free) == 0:\n",
        "        print(\"Its a tie....\")\n",
        "        return True\n",
        "    return False"
      ],
      "execution_count": null,
      "outputs": []
    },
    {
      "cell_type": "code",
      "metadata": {
        "id": "fYV2znXJAbde"
      },
      "source": [
        "#to check if close to win by one move Or if the player is about to win in one move and counter it\n",
        "def aboutTowin():\n",
        "  winCond = [[1,2,3],[4,5,6],[7,8,9],[1,4,7],[2,5,8],[3,6,9],[1,5,9],[3,5,7]]\n",
        "  free = [i+1 for i in range(len(freeLoc)) if freeLoc[i]]\n",
        "  lastP = -1\n",
        "  sysP = -1\n",
        "  for i in winCond:\n",
        "    sysP = set(i) - set(playerMoves['system'])\n",
        "    if len(sysP) == 1:\n",
        "        sysP = sysP.pop()        \n",
        "        if sysP and ( sysP in free ):\n",
        "            return sysP\n",
        "    \n",
        "  for i in winCond:\n",
        "    lastP = set(i) - set(playerMoves[player1])\n",
        "    if len(lastP) == 1:\n",
        "        lastP = lastP.pop()\n",
        "        if lastP and lastP in free:\n",
        "            return lastP\n",
        "  return -1\n"
      ],
      "execution_count": null,
      "outputs": []
    },
    {
      "cell_type": "code",
      "metadata": {
        "colab": {
          "base_uri": "https://localhost:8080/"
        },
        "id": "PC7O6VHOm36x",
        "outputId": "62388971-ec33-4723-90b7-d9fdce8e439d"
      },
      "source": [
        "changeturn(cur_player)\n",
        "print(cur_player)\n"
      ],
      "execution_count": null,
      "outputs": [
        {
          "output_type": "stream",
          "name": "stdout",
          "text": [
            "system\n"
          ]
        }
      ]
    },
    {
      "cell_type": "code",
      "metadata": {
        "id": "zvLixE1Omu_V",
        "colab": {
          "base_uri": "https://localhost:8080/"
        },
        "outputId": "fab67431-389a-4514-eace-4f2092f96d89"
      },
      "source": [
        "game()"
      ],
      "execution_count": null,
      "outputs": [
        {
          "output_type": "stream",
          "name": "stdout",
          "text": [
            "Its System Turn, Thinking...\n",
            "***********Tic-Tac-Toe*********** \n",
            "\n",
            "\t     |     |\n",
            "\t     |     |   \n",
            "\t_____|_____|_____\n",
            "\t     |     |\n",
            "\t     |  X  |  \n",
            "\t_____|_____|_____\n",
            "\t     |     |\n",
            "\t     |     |   \n",
            "\t     |     |\n",
            "\n",
            " ********************************* \n",
            "\n",
            "Its Ajith turn. Enter the position:(press -1 to quit) 1\n",
            "***********Tic-Tac-Toe*********** \n",
            "\n",
            "\t     |     |\n",
            "\t  O  |     |   \n",
            "\t_____|_____|_____\n",
            "\t     |     |\n",
            "\t     |  X  |  \n",
            "\t_____|_____|_____\n",
            "\t     |     |\n",
            "\t     |     |   \n",
            "\t     |     |\n",
            "\n",
            " ********************************* \n",
            "\n",
            "Its System Turn, Thinking...\n",
            "***********Tic-Tac-Toe*********** \n",
            "\n",
            "\t     |     |\n",
            "\t  O  |  X  |   \n",
            "\t_____|_____|_____\n",
            "\t     |     |\n",
            "\t     |  X  |  \n",
            "\t_____|_____|_____\n",
            "\t     |     |\n",
            "\t     |     |   \n",
            "\t     |     |\n",
            "\n",
            " ********************************* \n",
            "\n",
            "Its Ajith turn. Enter the position:(press -1 to quit) 8\n",
            "***********Tic-Tac-Toe*********** \n",
            "\n",
            "\t     |     |\n",
            "\t  O  |  X  |   \n",
            "\t_____|_____|_____\n",
            "\t     |     |\n",
            "\t     |  X  |  \n",
            "\t_____|_____|_____\n",
            "\t     |     |\n",
            "\t     |  O  |   \n",
            "\t     |     |\n",
            "\n",
            " ********************************* \n",
            "\n",
            "Its System Turn, Thinking...\n",
            "***********Tic-Tac-Toe*********** \n",
            "\n",
            "\t     |     |\n",
            "\t  O  |  X  |   \n",
            "\t_____|_____|_____\n",
            "\t     |     |\n",
            "\t     |  X  |  \n",
            "\t_____|_____|_____\n",
            "\t     |     |\n",
            "\t     |  O  | X \n",
            "\t     |     |\n",
            "\n",
            " ********************************* \n",
            "\n",
            "Its Ajith turn. Enter the position:(press -1 to quit) 7\n",
            "***********Tic-Tac-Toe*********** \n",
            "\n",
            "\t     |     |\n",
            "\t  O  |  X  |   \n",
            "\t_____|_____|_____\n",
            "\t     |     |\n",
            "\t     |  X  |  \n",
            "\t_____|_____|_____\n",
            "\t     |     |\n",
            "\t  O  |  O  | X \n",
            "\t     |     |\n",
            "\n",
            " ********************************* \n",
            "\n",
            "Its System Turn, Thinking...\n",
            "***********Tic-Tac-Toe*********** \n",
            "\n",
            "\t     |     |\n",
            "\t  O  |  X  |   \n",
            "\t_____|_____|_____\n",
            "\t     |     |\n",
            "\t  X  |  X  |  \n",
            "\t_____|_____|_____\n",
            "\t     |     |\n",
            "\t  O  |  O  | X \n",
            "\t     |     |\n",
            "\n",
            " ********************************* \n",
            "\n",
            "Its Ajith turn. Enter the position:(press -1 to quit) 3\n",
            "***********Tic-Tac-Toe*********** \n",
            "\n",
            "\t     |     |\n",
            "\t  O  |  X  | O \n",
            "\t_____|_____|_____\n",
            "\t     |     |\n",
            "\t  X  |  X  |  \n",
            "\t_____|_____|_____\n",
            "\t     |     |\n",
            "\t  O  |  O  | X \n",
            "\t     |     |\n",
            "\n",
            " ********************************* \n",
            "\n",
            "Its System Turn, Thinking...\n",
            "***********Tic-Tac-Toe*********** \n",
            "\n",
            "\t     |     |\n",
            "\t  O  |  X  | O \n",
            "\t_____|_____|_____\n",
            "\t     |     |\n",
            "\t  X  |  X  | X\n",
            "\t_____|_____|_____\n",
            "\t     |     |\n",
            "\t  O  |  O  | X \n",
            "\t     |     |\n",
            "\n",
            " ********************************* \n",
            "\n",
            "system has Won!!\n",
            "***********Tic-Tac-Toe*********** \n",
            "\n",
            "\t     |     |\n",
            "\t  O  |  X  | O \n",
            "\t_____|_____|_____\n",
            "\t     |     |\n",
            "\t  X  |  X  | X\n",
            "\t_____|_____|_____\n",
            "\t     |     |\n",
            "\t  O  |  O  | X \n",
            "\t     |     |\n",
            "\n",
            " ********************************* \n",
            "\n",
            "system has Won!!\n"
          ]
        }
      ]
    }
  ]
}